{
  "nbformat": 4,
  "nbformat_minor": 0,
  "metadata": {
    "colab": {
      "name": "Kopia notatnika GSN 2020/21 - RNN lab scenario.ipynb",
      "provenance": [],
      "collapsed_sections": []
    },
    "kernelspec": {
      "name": "python3",
      "display_name": "Python 3"
    },
    "language_info": {
      "name": "python"
    }
  },
  "cells": [
    {
      "cell_type": "markdown",
      "metadata": {
        "id": "zAh8AAYKyGaZ"
      },
      "source": [
        "# TL;DR\n",
        "\n",
        "1. In this lab scenario you will have a chance to compare performance of the classic RNN and LSTM on a toy example. \n",
        "2. This toy example will show that maintaining memory over even 20 steps is non-trivial. \n",
        "3. Finally, you will see how curriculum learning may allow to train a model on larger sequences.\n",
        "\n",
        "# Problem definition\n",
        "\n",
        "Here we consider a toy example, where the goal is to discriminate between two types of binary sequences:\n",
        "* [Type 0] a sequence with exactly one zero (remaining entries are equal to one).\n",
        "* [Type 1] a sequence full of ones,\n",
        "\n",
        "We are especially interested in the performance of the trained models on discriminating between a sequence full of ones versus a sequence with leading zero followed by ones. Note that in this case the goal of the model is to output the first element of the sequence, as the label (sequence type) is fully determined by the first element of the sequence."
      ]
    },
    {
      "cell_type": "markdown",
      "metadata": {
        "id": "w89kJcvtzNRm"
      },
      "source": [
        "#Implementation"
      ]
    },
    {
      "cell_type": "markdown",
      "metadata": {
        "id": "1WyKOni1OEiS"
      },
      "source": [
        "## Importing torch\n",
        "\n",
        "Install `torch` and `torchvision`"
      ]
    },
    {
      "cell_type": "code",
      "metadata": {
        "colab": {
          "base_uri": "https://localhost:8080/"
        },
        "id": "lFlmFfiPN1hI",
        "outputId": "f5267f8c-b8db-4ca9-9eb1-237aee7b4abf"
      },
      "source": [
        "!pip3 install torch torchvision"
      ],
      "execution_count": 6,
      "outputs": [
        {
          "output_type": "stream",
          "text": [
            "Requirement already satisfied: torch in /usr/local/lib/python3.7/dist-packages (1.8.1+cu101)\n",
            "Requirement already satisfied: torchvision in /usr/local/lib/python3.7/dist-packages (0.9.1+cu101)\n",
            "Requirement already satisfied: typing-extensions in /usr/local/lib/python3.7/dist-packages (from torch) (3.7.4.3)\n",
            "Requirement already satisfied: numpy in /usr/local/lib/python3.7/dist-packages (from torch) (1.19.5)\n",
            "Requirement already satisfied: pillow>=4.1.1 in /usr/local/lib/python3.7/dist-packages (from torchvision) (7.1.2)\n"
          ],
          "name": "stdout"
        }
      ]
    },
    {
      "cell_type": "code",
      "metadata": {
        "colab": {
          "base_uri": "https://localhost:8080/"
        },
        "id": "kRYUIgJLOa6X",
        "outputId": "92826883-37b2-4ec0-e5fb-5c168459a7cb"
      },
      "source": [
        "import torch\n",
        "import torch.nn as nn\n",
        "import torch.optim as optim\n",
        "import torch.nn.functional as F\n",
        "\n",
        "torch.manual_seed(1)"
      ],
      "execution_count": 7,
      "outputs": [
        {
          "output_type": "execute_result",
          "data": {
            "text/plain": [
              "<torch._C.Generator at 0x7f7856ee8eb0>"
            ]
          },
          "metadata": {
            "tags": []
          },
          "execution_count": 7
        }
      ]
    },
    {
      "cell_type": "markdown",
      "metadata": {
        "id": "eMfnsxS4zdp9"
      },
      "source": [
        "## Understand dimensionality\n",
        "\n",
        "Check the input and output specification [LSTM](https://pytorch.org/docs/stable/generated/torch.nn.LSTM.html) and [RNN](https://pytorch.org/docs/stable/generated/torch.nn.RNN.html). The following snippet shows how we can process\n",
        "a sequence by LSTM and output a vector of size `hidden_dim` after reading\n",
        "each token of the sequence. "
      ]
    },
    {
      "cell_type": "code",
      "metadata": {
        "colab": {
          "base_uri": "https://localhost:8080/"
        },
        "id": "s_MMm1AaObmg",
        "outputId": "0d1e65e9-a79d-4c4a-d843-f251f1160553"
      },
      "source": [
        "hidden_dim = 5\n",
        "lstm = nn.LSTM(1, hidden_dim)  # Input sequence contains elements - vectors of size 1\n",
        "\n",
        "# create a random sequence\n",
        "sequence = [torch.randn(1) for _ in range(10)]\n",
        "\n",
        "# initialize the hidden state (including cell state)\n",
        "hidden = (torch.zeros(1, 1, 5),\n",
        "          torch.zeros(1, 1, 5))\n",
        "\n",
        "for i, elem in enumerate(sequence):\n",
        "  # we are processing only a single element of the sequence, and there\n",
        "  # is only one sample (sequence) in the batch, the third one\n",
        "  # corresponds to the fact that our sequence contains elemenents,\n",
        "  # which can be treated as vectors of size 1\n",
        "  out, hidden = lstm(elem.view(1, 1, 1), hidden)\n",
        "  print(f'i={i} out={out.detach()}')\n",
        "print(f'Final hidden state={hidden[0].detach()} cell state={hidden[1].detach()}')"
      ],
      "execution_count": 22,
      "outputs": [
        {
          "output_type": "stream",
          "text": [
            "i=0 out=tensor([[[-0.0721, -0.0688, -0.0530, -0.0035,  0.0450]]])\n",
            "i=1 out=tensor([[[-0.0537, -0.1844, -0.0189, -0.1297,  0.0710]]])\n",
            "i=2 out=tensor([[[-0.0344, -0.2473,  0.0129, -0.2353,  0.0758]]])\n",
            "i=3 out=tensor([[[-0.0691, -0.1793, -0.0292, -0.1084,  0.0732]]])\n",
            "i=4 out=tensor([[[-0.0403, -0.2267,  0.0061, -0.2261,  0.0836]]])\n",
            "i=5 out=tensor([[[-0.0376, -0.2608,  0.0291, -0.2692,  0.0772]]])\n",
            "i=6 out=tensor([[[-0.0392, -0.2710,  0.0427, -0.2901,  0.0739]]])\n",
            "i=7 out=tensor([[[-0.0371, -0.2781,  0.0580, -0.3237,  0.0719]]])\n",
            "i=8 out=tensor([[[-0.0759, -0.1768,  0.0026, -0.1491,  0.0681]]])\n",
            "i=9 out=tensor([[[-0.1003, -0.0676, -0.0639, -0.0408,  0.0781]]])\n",
            "Final hidden state=tensor([[[-0.1003, -0.0676, -0.0639, -0.0408,  0.0781]]]) cell state=tensor([[[-0.1802, -0.1061, -0.1201, -0.0794,  0.2230]]])\n"
          ],
          "name": "stdout"
        }
      ]
    },
    {
      "cell_type": "code",
      "metadata": {
        "colab": {
          "base_uri": "https://localhost:8080/"
        },
        "id": "bIB0eP62JiU3",
        "outputId": "37fc73ed-ea5f-439e-8155-19530afd7752"
      },
      "source": [
        "sequence"
      ],
      "execution_count": 23,
      "outputs": [
        {
          "output_type": "execute_result",
          "data": {
            "text/plain": [
              "[tensor([-0.6616]),\n",
              " tensor([0.8289]),\n",
              " tensor([1.0901]),\n",
              " tensor([-0.6535]),\n",
              " tensor([1.0287]),\n",
              " tensor([0.9090]),\n",
              " tensor([0.8361]),\n",
              " tensor([0.9917]),\n",
              " tensor([-0.7313]),\n",
              " tensor([-1.2994])]"
            ]
          },
          "metadata": {
            "tags": []
          },
          "execution_count": 23
        }
      ]
    },
    {
      "cell_type": "markdown",
      "metadata": {
        "id": "Ph3iyjw_8F30"
      },
      "source": [
        "## To implement\n",
        "\n",
        "Process the whole sequence all at once by calling `lstm` only once and check that the output is exactly the same as above (remember to initialize the hidden state the same way)."
      ]
    },
    {
      "cell_type": "code",
      "metadata": {
        "id": "tFtxYqla8bJM",
        "colab": {
          "base_uri": "https://localhost:8080/"
        },
        "outputId": "2b2ccd81-71fa-47b0-ee7a-bad40ac2e2d1"
      },
      "source": [
        "hidden_dim = 16\n",
        "lstm = nn.LSTM(1, hidden_dim) \n",
        "\n",
        "hidden = (torch.zeros(1, 1, 16),\n",
        "            torch.zeros(1, 1, 16))\n",
        "out, hidden = lstm(torch.tensor(sequence).view(10, 1, 1), hidden)\n",
        "print(f'final hiden state={hidden[0].detach()} cell state={hidden[1].detach()}')"
      ],
      "execution_count": null,
      "outputs": [
        {
          "output_type": "stream",
          "text": [
            "final hiden state=tensor([[[-0.1707, -0.0452,  0.0058, -0.1282,  0.1117, -0.0025, -0.1487,\n",
            "           0.0479,  0.0538, -0.0660,  0.0267,  0.1484, -0.0530,  0.0364,\n",
            "           0.2169,  0.0449]]]) cell state=tensor([[[-0.2975, -0.0812,  0.0114, -0.3157,  0.2110, -0.0047, -0.3461,\n",
            "           0.1094,  0.1026, -0.1094,  0.0482,  0.2814, -0.0921,  0.0739,\n",
            "           0.4801,  0.0918]]])\n"
          ],
          "name": "stdout"
        }
      ]
    },
    {
      "cell_type": "markdown",
      "metadata": {
        "id": "9VAUJUhx9EAC"
      },
      "source": [
        "## Training a model\n",
        "\n",
        "Below we define a very simple model, which is a single layer of LSTM, where the output in each time step is processed by relu followed by a single fully connected layer, the output of which is a single number. We are going\n",
        "to use the number generated after reading the last element of the sequence,\n",
        "which will serve as the logit for our classification problem."
      ]
    },
    {
      "cell_type": "code",
      "metadata": {
        "id": "qncNRKMNOh9h"
      },
      "source": [
        "class Model(nn.Module):\n",
        "\n",
        "    def __init__(self, hidden_dim):\n",
        "        super(Model, self).__init__()\n",
        "        self.hidden_dim = hidden_dim\n",
        "        self.lstm = nn.LSTM(1, self.hidden_dim)\n",
        "        self.hidden2label = nn.Linear(hidden_dim, 1)\n",
        "\n",
        "    def forward(self, x):\n",
        "        out, _ = self.lstm(x)\n",
        "        sequence_len = x.shape[0]\n",
        "        logits = self.hidden2label(F.relu(out[-1].view(-1)))\n",
        "        return logits"
      ],
      "execution_count": 24,
      "outputs": []
    },
    {
      "cell_type": "markdown",
      "metadata": {
        "id": "IF4r0AUu9g6a"
      },
      "source": [
        "Below is a training loop, where we only train on the two hardest examples."
      ]
    },
    {
      "cell_type": "code",
      "metadata": {
        "id": "gTaCFMBBOkOp"
      },
      "source": [
        "SEQUENCE_LEN = 15\n",
        "\n",
        "# Pairs of (sequence, label)\n",
        "HARD_EXAMPLES = [([0.]+(SEQUENCE_LEN-1)*[1.], 0),\n",
        "                 (SEQUENCE_LEN*[1.], 1)]\n",
        "\n",
        "\n",
        "def eval_on_hard_examples(model):\n",
        "    with torch.no_grad():\n",
        "        logits = []\n",
        "        for sequence in HARD_EXAMPLES:\n",
        "            input = torch.tensor(sequence[0]).view(-1, 1, 1)\n",
        "            logit = model(input)\n",
        "            logits.append(logit.detach())\n",
        "        print(f'Logits for hard examples={logits}')\n",
        "\n",
        "\n",
        "def train_model(hidden_dim, lr, num_steps=10000):\n",
        "    model = Model(hidden_dim=hidden_dim)\n",
        "    loss_function = nn.BCEWithLogitsLoss()\n",
        "    optimizer = optim.SGD(model.parameters(), lr=lr, momentum=0.99)\n",
        "\n",
        "    for step in range(num_steps):  \n",
        "        if step % 100 == 0:\n",
        "            eval_on_hard_examples(model)\n",
        "\n",
        "        for sequence, label in HARD_EXAMPLES:\n",
        "            model.zero_grad()\n",
        "            logit = model(torch.tensor(sequence).view(-1, 1, 1))  \n",
        "            \n",
        "            loss = loss_function(logit.view(-1), torch.tensor([label], dtype=torch.float32))\n",
        "            loss.backward()\n",
        "\n",
        "            optimizer.step()   "
      ],
      "execution_count": 28,
      "outputs": []
    },
    {
      "cell_type": "code",
      "metadata": {
        "colab": {
          "base_uri": "https://localhost:8080/"
        },
        "id": "wVHU71P5EWsm",
        "outputId": "f8762b39-1470-4861-fb8b-99ce842f788d"
      },
      "source": [
        "train_model(hidden_dim=20, lr=0.01, num_steps=10000)"
      ],
      "execution_count": 29,
      "outputs": [
        {
          "output_type": "stream",
          "text": [
            "Logits for hard examples=[tensor([-0.1748]), tensor([-0.1748])]\n",
            "Logits for hard examples=[tensor([0.0550]), tensor([0.0550])]\n",
            "Logits for hard examples=[tensor([-0.0008]), tensor([-0.0008])]\n",
            "Logits for hard examples=[tensor([-0.0043]), tensor([-0.0043])]\n",
            "Logits for hard examples=[tensor([0.0046]), tensor([0.0046])]\n",
            "Logits for hard examples=[tensor([0.0002]), tensor([0.0002])]\n",
            "Logits for hard examples=[tensor([0.0014]), tensor([0.0014])]\n",
            "Logits for hard examples=[tensor([0.0013]), tensor([0.0013])]\n",
            "Logits for hard examples=[tensor([0.0012]), tensor([0.0012])]\n",
            "Logits for hard examples=[tensor([0.0013]), tensor([0.0013])]\n",
            "Logits for hard examples=[tensor([0.0013]), tensor([0.0013])]\n",
            "Logits for hard examples=[tensor([0.0013]), tensor([0.0013])]\n",
            "Logits for hard examples=[tensor([0.0013]), tensor([0.0013])]\n",
            "Logits for hard examples=[tensor([0.0013]), tensor([0.0013])]\n",
            "Logits for hard examples=[tensor([0.0013]), tensor([0.0013])]\n",
            "Logits for hard examples=[tensor([0.0013]), tensor([0.0013])]\n",
            "Logits for hard examples=[tensor([0.0013]), tensor([0.0013])]\n",
            "Logits for hard examples=[tensor([0.0013]), tensor([0.0013])]\n",
            "Logits for hard examples=[tensor([0.0013]), tensor([0.0013])]\n",
            "Logits for hard examples=[tensor([0.0013]), tensor([0.0013])]\n",
            "Logits for hard examples=[tensor([0.0013]), tensor([0.0013])]\n",
            "Logits for hard examples=[tensor([0.0013]), tensor([0.0013])]\n",
            "Logits for hard examples=[tensor([0.0013]), tensor([0.0013])]\n",
            "Logits for hard examples=[tensor([0.0013]), tensor([0.0013])]\n",
            "Logits for hard examples=[tensor([0.0013]), tensor([0.0013])]\n",
            "Logits for hard examples=[tensor([0.0013]), tensor([0.0013])]\n",
            "Logits for hard examples=[tensor([0.0013]), tensor([0.0013])]\n",
            "Logits for hard examples=[tensor([0.0013]), tensor([0.0013])]\n",
            "Logits for hard examples=[tensor([0.0013]), tensor([0.0013])]\n",
            "Logits for hard examples=[tensor([0.0013]), tensor([0.0013])]\n",
            "Logits for hard examples=[tensor([0.0013]), tensor([0.0013])]\n",
            "Logits for hard examples=[tensor([0.0013]), tensor([0.0013])]\n",
            "Logits for hard examples=[tensor([0.0013]), tensor([0.0013])]\n",
            "Logits for hard examples=[tensor([0.0013]), tensor([0.0013])]\n",
            "Logits for hard examples=[tensor([0.0013]), tensor([0.0013])]\n",
            "Logits for hard examples=[tensor([0.0013]), tensor([0.0013])]\n",
            "Logits for hard examples=[tensor([0.0013]), tensor([0.0013])]\n",
            "Logits for hard examples=[tensor([0.0013]), tensor([0.0013])]\n",
            "Logits for hard examples=[tensor([0.0013]), tensor([0.0013])]\n",
            "Logits for hard examples=[tensor([0.0013]), tensor([0.0013])]\n",
            "Logits for hard examples=[tensor([0.0013]), tensor([0.0013])]\n",
            "Logits for hard examples=[tensor([0.0013]), tensor([0.0013])]\n",
            "Logits for hard examples=[tensor([0.0013]), tensor([0.0013])]\n",
            "Logits for hard examples=[tensor([0.0013]), tensor([0.0013])]\n",
            "Logits for hard examples=[tensor([0.0013]), tensor([0.0013])]\n",
            "Logits for hard examples=[tensor([0.0013]), tensor([0.0013])]\n",
            "Logits for hard examples=[tensor([0.0013]), tensor([0.0013])]\n",
            "Logits for hard examples=[tensor([0.0013]), tensor([0.0013])]\n",
            "Logits for hard examples=[tensor([0.0013]), tensor([0.0013])]\n",
            "Logits for hard examples=[tensor([0.0013]), tensor([0.0013])]\n",
            "Logits for hard examples=[tensor([0.0013]), tensor([0.0013])]\n",
            "Logits for hard examples=[tensor([0.0013]), tensor([0.0013])]\n",
            "Logits for hard examples=[tensor([0.0013]), tensor([0.0013])]\n",
            "Logits for hard examples=[tensor([0.0013]), tensor([0.0013])]\n",
            "Logits for hard examples=[tensor([0.0013]), tensor([0.0013])]\n",
            "Logits for hard examples=[tensor([0.0013]), tensor([0.0013])]\n",
            "Logits for hard examples=[tensor([0.0013]), tensor([0.0013])]\n",
            "Logits for hard examples=[tensor([0.0013]), tensor([0.0013])]\n",
            "Logits for hard examples=[tensor([0.0013]), tensor([0.0013])]\n",
            "Logits for hard examples=[tensor([0.0013]), tensor([0.0013])]\n",
            "Logits for hard examples=[tensor([0.0013]), tensor([0.0013])]\n",
            "Logits for hard examples=[tensor([0.0013]), tensor([0.0013])]\n",
            "Logits for hard examples=[tensor([0.0013]), tensor([0.0013])]\n",
            "Logits for hard examples=[tensor([0.0013]), tensor([0.0013])]\n",
            "Logits for hard examples=[tensor([0.0013]), tensor([0.0013])]\n",
            "Logits for hard examples=[tensor([0.0013]), tensor([0.0013])]\n",
            "Logits for hard examples=[tensor([0.0013]), tensor([0.0013])]\n",
            "Logits for hard examples=[tensor([0.0013]), tensor([0.0013])]\n",
            "Logits for hard examples=[tensor([0.0013]), tensor([0.0013])]\n",
            "Logits for hard examples=[tensor([0.0013]), tensor([0.0013])]\n",
            "Logits for hard examples=[tensor([0.0013]), tensor([0.0013])]\n",
            "Logits for hard examples=[tensor([0.0013]), tensor([0.0013])]\n",
            "Logits for hard examples=[tensor([0.0013]), tensor([0.0013])]\n",
            "Logits for hard examples=[tensor([0.0013]), tensor([0.0013])]\n",
            "Logits for hard examples=[tensor([0.0013]), tensor([0.0013])]\n",
            "Logits for hard examples=[tensor([0.0013]), tensor([0.0013])]\n",
            "Logits for hard examples=[tensor([0.0013]), tensor([0.0013])]\n",
            "Logits for hard examples=[tensor([0.0013]), tensor([0.0013])]\n",
            "Logits for hard examples=[tensor([0.0013]), tensor([0.0013])]\n",
            "Logits for hard examples=[tensor([0.0013]), tensor([0.0013])]\n",
            "Logits for hard examples=[tensor([0.0013]), tensor([0.0013])]\n",
            "Logits for hard examples=[tensor([0.0013]), tensor([0.0013])]\n",
            "Logits for hard examples=[tensor([0.0013]), tensor([0.0013])]\n",
            "Logits for hard examples=[tensor([0.0013]), tensor([0.0013])]\n",
            "Logits for hard examples=[tensor([0.0013]), tensor([0.0013])]\n",
            "Logits for hard examples=[tensor([0.0013]), tensor([0.0013])]\n",
            "Logits for hard examples=[tensor([0.0013]), tensor([0.0013])]\n",
            "Logits for hard examples=[tensor([0.0013]), tensor([0.0013])]\n",
            "Logits for hard examples=[tensor([0.0013]), tensor([0.0013])]\n",
            "Logits for hard examples=[tensor([0.0013]), tensor([0.0013])]\n",
            "Logits for hard examples=[tensor([0.0013]), tensor([0.0013])]\n",
            "Logits for hard examples=[tensor([0.0013]), tensor([0.0013])]\n",
            "Logits for hard examples=[tensor([0.0013]), tensor([0.0013])]\n",
            "Logits for hard examples=[tensor([0.0013]), tensor([0.0013])]\n",
            "Logits for hard examples=[tensor([0.0013]), tensor([0.0013])]\n",
            "Logits for hard examples=[tensor([0.0013]), tensor([0.0013])]\n",
            "Logits for hard examples=[tensor([0.0013]), tensor([0.0013])]\n",
            "Logits for hard examples=[tensor([0.0013]), tensor([0.0013])]\n",
            "Logits for hard examples=[tensor([0.0013]), tensor([0.0013])]\n",
            "Logits for hard examples=[tensor([0.0013]), tensor([0.0013])]\n"
          ],
          "name": "stdout"
        }
      ]
    },
    {
      "cell_type": "markdown",
      "metadata": {
        "id": "8McwXyHIRpo4"
      },
      "source": [
        "2. Instead of training on `HARD_EXAMPLES` only, modify the training loop to train on sequences where zero may be in any position of the sequence (so any valid sequence of `Type 0`, not just the hardest one). After modifying the training loop check for what values of `SEQUENCE_LEN` you can train the model successfully."
      ]
    },
    {
      "cell_type": "code",
      "metadata": {
        "colab": {
          "base_uri": "https://localhost:8080/"
        },
        "id": "dfEVR4SDOgVu",
        "outputId": "219a5f90-b717-425e-ccc9-e4e6d3423a1a"
      },
      "source": [
        "SEQUENCE_LEN = 15\n",
        "\n",
        "i = 5\n",
        "# Pairs of (sequence, label)\n",
        "HARD_EXAMPLES = [((i)*[1.]+[0.]+(SEQUENCE_LEN-i-1)*[1.], 0),\n",
        "                 (SEQUENCE_LEN*[1.], 1)]\n",
        "\n",
        "\n",
        "def eval_on_hard_examples(model):\n",
        "    with torch.no_grad():\n",
        "        logits = []\n",
        "        for sequence in HARD_EXAMPLES:\n",
        "            input = torch.tensor(sequence[0]).view(-1, 1, 1)\n",
        "            logit = model(input)\n",
        "            logits.append(logit.detach())\n",
        "        print(f'Logits for hard examples={logits}')\n",
        "\n",
        "\n",
        "def train_model(hidden_dim, lr, num_steps=100):\n",
        "    model = Model(hidden_dim=hidden_dim)\n",
        "    loss_function = nn.BCEWithLogitsLoss()\n",
        "    optimizer = optim.SGD(model.parameters(), lr=lr, momentum=0.99)\n",
        "\n",
        "    for step in range(num_steps):  \n",
        "        if step % 100 == 0:\n",
        "            eval_on_hard_examples(model)\n",
        "\n",
        "        for sequence, label in HARD_EXAMPLES:\n",
        "            model.zero_grad()\n",
        "            logit = model(torch.tensor(sequence).view(-1, 1, 1))  \n",
        "            \n",
        "            loss = loss_function(logit.view(-1), torch.tensor([label], dtype=torch.float32))\n",
        "            loss.backward()\n",
        "\n",
        "            optimizer.step()   \n",
        "\n",
        "train_model(hidden_dim=20, lr=0.01, num_steps=10000)"
      ],
      "execution_count": 32,
      "outputs": [
        {
          "output_type": "stream",
          "text": [
            "Logits for hard examples=[tensor([0.2251]), tensor([0.2249])]\n",
            "Logits for hard examples=[tensor([0.0499]), tensor([0.0499])]\n",
            "Logits for hard examples=[tensor([-0.0244]), tensor([-0.0243])]\n",
            "Logits for hard examples=[tensor([0.0005]), tensor([0.0008])]\n",
            "Logits for hard examples=[tensor([0.0036]), tensor([0.0042])]\n",
            "Logits for hard examples=[tensor([-0.0008]), tensor([0.0012])]\n",
            "Logits for hard examples=[tensor([-0.0227]), tensor([0.0311])]\n",
            "Logits for hard examples=[tensor([0.0226]), tensor([0.0225])]\n",
            "Logits for hard examples=[tensor([-0.0879]), tensor([-0.0879])]\n",
            "Logits for hard examples=[tensor([0.0512]), tensor([0.0513])]\n",
            "Logits for hard examples=[tensor([-0.0171]), tensor([-0.0171])]\n",
            "Logits for hard examples=[tensor([0.0058]), tensor([0.0058])]\n",
            "Logits for hard examples=[tensor([0.0010]), tensor([0.0011])]\n",
            "Logits for hard examples=[tensor([0.0008]), tensor([0.0009])]\n",
            "Logits for hard examples=[tensor([0.0016]), tensor([0.0017])]\n",
            "Logits for hard examples=[tensor([0.0012]), tensor([0.0013])]\n",
            "Logits for hard examples=[tensor([0.0012]), tensor([0.0012])]\n",
            "Logits for hard examples=[tensor([0.0013]), tensor([0.0014])]\n",
            "Logits for hard examples=[tensor([0.0012]), tensor([0.0013])]\n",
            "Logits for hard examples=[tensor([0.0013]), tensor([0.0014])]\n",
            "Logits for hard examples=[tensor([0.0013]), tensor([0.0014])]\n",
            "Logits for hard examples=[tensor([0.0013]), tensor([0.0015])]\n",
            "Logits for hard examples=[tensor([0.0013]), tensor([0.0019])]\n",
            "Logits for hard examples=[tensor([0.0021]), tensor([0.0024])]\n",
            "Logits for hard examples=[tensor([0.0014]), tensor([0.0018])]\n",
            "Logits for hard examples=[tensor([-0.0037]), tensor([-0.0013])]\n",
            "Logits for hard examples=[tensor([0.0075]), tensor([0.0305])]\n",
            "Logits for hard examples=[tensor([0.0103]), tensor([0.0113])]\n",
            "Logits for hard examples=[tensor([0.0037]), tensor([0.0062])]\n",
            "Logits for hard examples=[tensor([0.2887]), tensor([0.3786])]\n",
            "Logits for hard examples=[tensor([-0.0216]), tensor([-0.0213])]\n",
            "Logits for hard examples=[tensor([0.0011]), tensor([0.0016])]\n",
            "Logits for hard examples=[tensor([0.0055]), tensor([0.0061])]\n",
            "Logits for hard examples=[tensor([0.0020]), tensor([0.0029])]\n",
            "Logits for hard examples=[tensor([0.0018]), tensor([0.0037])]\n",
            "Logits for hard examples=[tensor([0.0179]), tensor([0.0372])]\n",
            "Logits for hard examples=[tensor([-0.1129]), tensor([-0.1047])]\n",
            "Logits for hard examples=[tensor([0.4876]), tensor([0.4892])]\n",
            "Logits for hard examples=[tensor([-0.0837]), tensor([-0.0824])]\n",
            "Logits for hard examples=[tensor([0.2173]), tensor([0.2174])]\n",
            "Logits for hard examples=[tensor([0.0731]), tensor([0.0732])]\n",
            "Logits for hard examples=[tensor([-0.0077]), tensor([-0.0075])]\n",
            "Logits for hard examples=[tensor([-0.0071]), tensor([-0.0065])]\n",
            "Logits for hard examples=[tensor([0.0053]), tensor([0.0731])]\n",
            "Logits for hard examples=[tensor([-6.4913]), tensor([4.8933])]\n",
            "Logits for hard examples=[tensor([-3.5056]), tensor([3.2195])]\n",
            "Logits for hard examples=[tensor([-6.3323]), tensor([7.0076])]\n",
            "Logits for hard examples=[tensor([-7.2784]), tensor([7.5433])]\n",
            "Logits for hard examples=[tensor([-7.5360]), tensor([7.7604])]\n",
            "Logits for hard examples=[tensor([-7.6654]), tensor([7.9297])]\n",
            "Logits for hard examples=[tensor([-7.7679]), tensor([8.0817])]\n",
            "Logits for hard examples=[tensor([-7.8613]), tensor([8.2211])]\n",
            "Logits for hard examples=[tensor([-7.9490]), tensor([8.3498])]\n",
            "Logits for hard examples=[tensor([-8.0319]), tensor([8.4690])]\n",
            "Logits for hard examples=[tensor([-8.1105]), tensor([8.5794])]\n",
            "Logits for hard examples=[tensor([-8.1850]), tensor([8.6821])]\n",
            "Logits for hard examples=[tensor([-8.2559]), tensor([8.7775])]\n",
            "Logits for hard examples=[tensor([-8.3234]), tensor([8.8664])]\n",
            "Logits for hard examples=[tensor([-8.3877]), tensor([8.9493])]\n",
            "Logits for hard examples=[tensor([-8.4491]), tensor([9.0267])]\n",
            "Logits for hard examples=[tensor([-8.5078]), tensor([9.0993])]\n",
            "Logits for hard examples=[tensor([-8.5639]), tensor([9.1673])]\n",
            "Logits for hard examples=[tensor([-8.6176]), tensor([9.2313])]\n",
            "Logits for hard examples=[tensor([-8.6692]), tensor([9.2917])]\n",
            "Logits for hard examples=[tensor([-8.7187]), tensor([9.3487])]\n",
            "Logits for hard examples=[tensor([-8.7662]), tensor([9.4027])]\n",
            "Logits for hard examples=[tensor([-8.8120]), tensor([9.4539])]\n",
            "Logits for hard examples=[tensor([-8.8561]), tensor([9.5026])]\n",
            "Logits for hard examples=[tensor([-8.8986]), tensor([9.5490])]\n",
            "Logits for hard examples=[tensor([-8.9396]), tensor([9.5933])]\n",
            "Logits for hard examples=[tensor([-8.9792]), tensor([9.6356])]\n",
            "Logits for hard examples=[tensor([-9.0176]), tensor([9.6762])]\n",
            "Logits for hard examples=[tensor([-9.0547]), tensor([9.7152])]\n",
            "Logits for hard examples=[tensor([-9.0906]), tensor([9.7526])]\n",
            "Logits for hard examples=[tensor([-9.1255]), tensor([9.7886])]\n",
            "Logits for hard examples=[tensor([-9.1593]), tensor([9.8234])]\n",
            "Logits for hard examples=[tensor([-9.1921]), tensor([9.8569])]\n",
            "Logits for hard examples=[tensor([-9.2240]), tensor([9.8893])]\n",
            "Logits for hard examples=[tensor([-9.2550]), tensor([9.9206])]\n",
            "Logits for hard examples=[tensor([-9.2852]), tensor([9.9510])]\n",
            "Logits for hard examples=[tensor([-9.3147]), tensor([9.9805])]\n",
            "Logits for hard examples=[tensor([-9.3433]), tensor([10.0091])]\n",
            "Logits for hard examples=[tensor([-9.3713]), tensor([10.0369])]\n",
            "Logits for hard examples=[tensor([-9.3985]), tensor([10.0639])]\n",
            "Logits for hard examples=[tensor([-9.4252]), tensor([10.0903])]\n",
            "Logits for hard examples=[tensor([-9.4512]), tensor([10.1159])]\n",
            "Logits for hard examples=[tensor([-9.4766]), tensor([10.1410])]\n",
            "Logits for hard examples=[tensor([-9.5014]), tensor([10.1654])]\n",
            "Logits for hard examples=[tensor([-9.5257]), tensor([10.1893])]\n",
            "Logits for hard examples=[tensor([-9.5495]), tensor([10.2127])]\n",
            "Logits for hard examples=[tensor([-9.5728]), tensor([10.2355])]\n",
            "Logits for hard examples=[tensor([-9.5956]), tensor([10.2579])]\n",
            "Logits for hard examples=[tensor([-9.6179]), tensor([10.2797])]\n",
            "Logits for hard examples=[tensor([-9.6398]), tensor([10.3012])]\n",
            "Logits for hard examples=[tensor([-9.6613]), tensor([10.3223])]\n",
            "Logits for hard examples=[tensor([-9.6824]), tensor([10.3429])]\n",
            "Logits for hard examples=[tensor([-9.7031]), tensor([10.3632])]\n",
            "Logits for hard examples=[tensor([-9.7234]), tensor([10.3831])]\n",
            "Logits for hard examples=[tensor([-9.7434]), tensor([10.4027])]\n",
            "Logits for hard examples=[tensor([-9.7630]), tensor([10.4219])]\n"
          ],
          "name": "stdout"
        }
      ]
    },
    {
      "cell_type": "markdown",
      "metadata": {
        "id": "2Lt7dRkJDfqd"
      },
      "source": [
        "## To implement\n",
        "\n",
        "1. [X] Check for what values of `SEQUENCE_LEN` the model is able to discriminate betweeh the two hard examples (after training).\n",
        "2. [X] Instead of training on `HARD_EXAMPLES` only, modify the training loop to train on sequences where zero may be in any position of the sequence (so any valid sequence of `Type 0`, not just the hardest one). After modifying the training loop check for what values of `SEQUENCE_LEN` you can train the model successfully.\n",
        "3. [X] Replace LSTM by a classic RNN and check for what values of `SEQUENCE_LEN` you can train the model successfully.\n",
        "4. [X] Write a proper curricullum learning loop, where in a loop you consider longer and longer sequences, where expansion of the sequence length happens only after the model is trained successfully on the current length.\n",
        "\n",
        "Note that for steps 2-4 you may need to change the value of `num_steps`.\n"
      ]
    },
    {
      "cell_type": "markdown",
      "metadata": {
        "id": "vdTGRtp5UeNd"
      },
      "source": [
        "3. Replace LSTM by a classic RNN and check for what values of `SEQUENCE_LEN` you can train the model successfully."
      ]
    },
    {
      "cell_type": "code",
      "metadata": {
        "colab": {
          "base_uri": "https://localhost:8080/"
        },
        "id": "TrxeUajeUbPu",
        "outputId": "cf7889bd-77c2-4e6a-e4d8-23d5358d157c"
      },
      "source": [
        "SEQUENCE_LEN = 10\n",
        "\n",
        "class Model(nn.Module):\n",
        "\n",
        "    def __init__(self, hidden_dim):\n",
        "        super(Model, self).__init__()\n",
        "        self.hidden_dim = hidden_dim\n",
        "        self.rnn = nn.RNN(1, self.hidden_dim)\n",
        "        self.hidden2label = nn.Linear(hidden_dim, 1)\n",
        "\n",
        "    def forward(self, x):\n",
        "        out, _ = self.rnn(x)\n",
        "        sequence_len = x.shape[0]\n",
        "        logits = self.hidden2label(F.relu(out[-1].view(-1)))\n",
        "        return logits\n",
        "\n",
        "# Pairs of (sequence, label)\n",
        "HARD_EXAMPLES = [([0.]+(SEQUENCE_LEN-1)*[1.], 0),\n",
        "                 (SEQUENCE_LEN*[1.], 1)]\n",
        "\n",
        "\n",
        "def eval_on_hard_examples(model):\n",
        "    with torch.no_grad():\n",
        "        logits = []\n",
        "        for sequence in HARD_EXAMPLES:\n",
        "            input = torch.tensor(sequence[0]).view(-1, 1, 1)\n",
        "            logit = model(input)\n",
        "            logits.append(logit.detach())\n",
        "        print(f'Logits for hard examples={logits}')\n",
        "\n",
        "\n",
        "def train_model(hidden_dim, lr, num_steps=100):\n",
        "    model = Model(hidden_dim=hidden_dim)\n",
        "    loss_function = nn.BCEWithLogitsLoss()\n",
        "    optimizer = optim.SGD(model.parameters(), lr=lr, momentum=0.99)\n",
        "\n",
        "    for step in range(num_steps):  \n",
        "        if step % 100 == 0:\n",
        "            eval_on_hard_examples(model)\n",
        "\n",
        "        for sequence, label in HARD_EXAMPLES:\n",
        "            model.zero_grad()\n",
        "            logit = model(torch.tensor(sequence).view(-1, 1, 1))  \n",
        "            \n",
        "            loss = loss_function(logit.view(-1), torch.tensor([label], dtype=torch.float32))\n",
        "            loss.backward()\n",
        "\n",
        "            optimizer.step()   \n",
        "\n",
        "train_model(hidden_dim=20, lr=0.01, num_steps=10000)"
      ],
      "execution_count": 34,
      "outputs": [
        {
          "output_type": "stream",
          "text": [
            "Logits for hard examples=[tensor([0.0904]), tensor([0.0911])]\n",
            "Logits for hard examples=[tensor([-0.0641]), tensor([0.0551])]\n",
            "Logits for hard examples=[tensor([-0.1274]), tensor([-0.1273])]\n",
            "Logits for hard examples=[tensor([0.0221]), tensor([0.0221])]\n",
            "Logits for hard examples=[tensor([-0.0117]), tensor([-0.0117])]\n",
            "Logits for hard examples=[tensor([-0.0022]), tensor([-0.0022])]\n",
            "Logits for hard examples=[tensor([0.0056]), tensor([0.0056])]\n",
            "Logits for hard examples=[tensor([0.0046]), tensor([0.0047])]\n",
            "Logits for hard examples=[tensor([0.0036]), tensor([0.0036])]\n",
            "Logits for hard examples=[tensor([0.0037]), tensor([0.0037])]\n",
            "Logits for hard examples=[tensor([0.0038]), tensor([0.0038])]\n",
            "Logits for hard examples=[tensor([0.0038]), tensor([0.0038])]\n",
            "Logits for hard examples=[tensor([0.0038]), tensor([0.0038])]\n",
            "Logits for hard examples=[tensor([0.0038]), tensor([0.0038])]\n",
            "Logits for hard examples=[tensor([0.0038]), tensor([0.0038])]\n",
            "Logits for hard examples=[tensor([0.0038]), tensor([0.0038])]\n",
            "Logits for hard examples=[tensor([0.0038]), tensor([0.0038])]\n",
            "Logits for hard examples=[tensor([0.0038]), tensor([0.0038])]\n",
            "Logits for hard examples=[tensor([0.0038]), tensor([0.0038])]\n",
            "Logits for hard examples=[tensor([0.0038]), tensor([0.0038])]\n",
            "Logits for hard examples=[tensor([0.0038]), tensor([0.0038])]\n",
            "Logits for hard examples=[tensor([0.0038]), tensor([0.0038])]\n",
            "Logits for hard examples=[tensor([0.0038]), tensor([0.0038])]\n",
            "Logits for hard examples=[tensor([0.0038]), tensor([0.0038])]\n",
            "Logits for hard examples=[tensor([0.0038]), tensor([0.0038])]\n",
            "Logits for hard examples=[tensor([0.0038]), tensor([0.0038])]\n",
            "Logits for hard examples=[tensor([0.0038]), tensor([0.0038])]\n",
            "Logits for hard examples=[tensor([0.0038]), tensor([0.0038])]\n",
            "Logits for hard examples=[tensor([0.0038]), tensor([0.0038])]\n",
            "Logits for hard examples=[tensor([0.0038]), tensor([0.0038])]\n",
            "Logits for hard examples=[tensor([0.0038]), tensor([0.0038])]\n",
            "Logits for hard examples=[tensor([0.0038]), tensor([0.0038])]\n",
            "Logits for hard examples=[tensor([0.0038]), tensor([0.0038])]\n",
            "Logits for hard examples=[tensor([0.0038]), tensor([0.0038])]\n",
            "Logits for hard examples=[tensor([0.0038]), tensor([0.0038])]\n",
            "Logits for hard examples=[tensor([0.0038]), tensor([0.0038])]\n",
            "Logits for hard examples=[tensor([0.0038]), tensor([0.0038])]\n",
            "Logits for hard examples=[tensor([0.0038]), tensor([0.0038])]\n",
            "Logits for hard examples=[tensor([0.0038]), tensor([0.0038])]\n",
            "Logits for hard examples=[tensor([0.0038]), tensor([0.0038])]\n",
            "Logits for hard examples=[tensor([0.0038]), tensor([0.0038])]\n",
            "Logits for hard examples=[tensor([0.0038]), tensor([0.0038])]\n",
            "Logits for hard examples=[tensor([0.0038]), tensor([0.0038])]\n",
            "Logits for hard examples=[tensor([0.0038]), tensor([0.0038])]\n",
            "Logits for hard examples=[tensor([0.0038]), tensor([0.0038])]\n",
            "Logits for hard examples=[tensor([0.0038]), tensor([0.0038])]\n",
            "Logits for hard examples=[tensor([0.0038]), tensor([0.0038])]\n",
            "Logits for hard examples=[tensor([0.0038]), tensor([0.0038])]\n",
            "Logits for hard examples=[tensor([0.0038]), tensor([0.0038])]\n",
            "Logits for hard examples=[tensor([0.0038]), tensor([0.0038])]\n",
            "Logits for hard examples=[tensor([0.0038]), tensor([0.0038])]\n",
            "Logits for hard examples=[tensor([0.0038]), tensor([0.0038])]\n",
            "Logits for hard examples=[tensor([0.0038]), tensor([0.0039])]\n",
            "Logits for hard examples=[tensor([0.0038]), tensor([0.0038])]\n",
            "Logits for hard examples=[tensor([0.0038]), tensor([0.0038])]\n",
            "Logits for hard examples=[tensor([0.0038]), tensor([0.0038])]\n",
            "Logits for hard examples=[tensor([0.0038]), tensor([0.0038])]\n",
            "Logits for hard examples=[tensor([0.0038]), tensor([0.0038])]\n",
            "Logits for hard examples=[tensor([0.0038]), tensor([0.0038])]\n",
            "Logits for hard examples=[tensor([0.0038]), tensor([0.0039])]\n",
            "Logits for hard examples=[tensor([0.0038]), tensor([0.0039])]\n",
            "Logits for hard examples=[tensor([0.0038]), tensor([0.0045])]\n",
            "Logits for hard examples=[tensor([-7.2787]), tensor([6.4144])]\n",
            "Logits for hard examples=[tensor([-10.9699]), tensor([8.4217])]\n",
            "Logits for hard examples=[tensor([-11.3756]), tensor([9.0682])]\n",
            "Logits for hard examples=[tensor([-11.3890]), tensor([9.2761])]\n",
            "Logits for hard examples=[tensor([-11.3613]), tensor([9.4247])]\n",
            "Logits for hard examples=[tensor([-11.3366]), tensor([9.5586])]\n",
            "Logits for hard examples=[tensor([-11.3197]), tensor([9.6832])]\n",
            "Logits for hard examples=[tensor([-11.3099]), tensor([9.7980])]\n",
            "Logits for hard examples=[tensor([-11.3065]), tensor([9.9021])]\n",
            "Logits for hard examples=[tensor([-11.3138]), tensor([9.9307])]\n",
            "Logits for hard examples=[tensor([-11.3281]), tensor([9.9577])]\n",
            "Logits for hard examples=[tensor([-11.3457]), tensor([9.9839])]\n",
            "Logits for hard examples=[tensor([-11.3659]), tensor([10.0093])]\n",
            "Logits for hard examples=[tensor([-11.3887]), tensor([10.0341])]\n",
            "Logits for hard examples=[tensor([-11.4140]), tensor([10.0583])]\n",
            "Logits for hard examples=[tensor([-11.4417]), tensor([10.0819])]\n",
            "Logits for hard examples=[tensor([-11.4714]), tensor([10.1050])]\n",
            "Logits for hard examples=[tensor([-11.5032]), tensor([10.1276])]\n",
            "Logits for hard examples=[tensor([-11.5367]), tensor([10.1499])]\n",
            "Logits for hard examples=[tensor([-11.5716]), tensor([10.1717])]\n",
            "Logits for hard examples=[tensor([-11.6077]), tensor([10.1931])]\n",
            "Logits for hard examples=[tensor([-11.6439]), tensor([10.2143])]\n",
            "Logits for hard examples=[tensor([-11.6804]), tensor([10.2350])]\n",
            "Logits for hard examples=[tensor([-11.7170]), tensor([10.2555])]\n",
            "Logits for hard examples=[tensor([-11.7535]), tensor([10.2757])]\n",
            "Logits for hard examples=[tensor([-11.7811]), tensor([10.2956])]\n",
            "Logits for hard examples=[tensor([-11.7733]), tensor([10.3153])]\n",
            "Logits for hard examples=[tensor([-11.7656]), tensor([10.3347])]\n",
            "Logits for hard examples=[tensor([-11.7583]), tensor([10.3535])]\n",
            "Logits for hard examples=[tensor([-11.7512]), tensor([10.3720])]\n",
            "Logits for hard examples=[tensor([-11.7446]), tensor([10.3900])]\n",
            "Logits for hard examples=[tensor([-11.7383]), tensor([10.4076])]\n",
            "Logits for hard examples=[tensor([-11.7323]), tensor([10.4248])]\n",
            "Logits for hard examples=[tensor([-11.7266]), tensor([10.4416])]\n",
            "Logits for hard examples=[tensor([-11.7213]), tensor([10.4580])]\n",
            "Logits for hard examples=[tensor([-11.7162]), tensor([10.4741])]\n",
            "Logits for hard examples=[tensor([-11.7114]), tensor([10.4898])]\n",
            "Logits for hard examples=[tensor([-11.7069]), tensor([10.5052])]\n"
          ],
          "name": "stdout"
        }
      ]
    },
    {
      "cell_type": "markdown",
      "metadata": {
        "id": "D1zaQdxRVGMJ"
      },
      "source": [
        "4. Write a proper curricullum learning loop, where in a loop you consider longer and longer sequences, where expansion of the sequence length happens only after the model is trained successfully on the current length."
      ]
    },
    {
      "cell_type": "code",
      "metadata": {
        "id": "ZxI0CvMsVG0_"
      },
      "source": [
        "class Model(nn.Module):\n",
        "\n",
        "    def __init__(self, hidden_dim):\n",
        "        super(Model, self).__init__()\n",
        "        self.hidden_dim = hidden_dim\n",
        "        self.lstm = nn.LSTM(1, self.hidden_dim)\n",
        "        self.hidden2label = nn.Linear(hidden_dim, 1)\n",
        "\n",
        "    def forward(self, x):\n",
        "        out, _ = self.lstm(x)\n",
        "        sequence_len = x.shape[0]\n",
        "        logits = self.hidden2label(F.relu(out[-1].view(-1)))\n",
        "        return logits\n",
        "\n",
        "def eval_on_hard_examples(model,hard_examples):\n",
        "    with torch.no_grad():\n",
        "        logits = []\n",
        "        for sequence in hard_examples:\n",
        "            input = torch.tensor(sequence[0]).view(-1, 1, 1)\n",
        "            logit = model(input)\n",
        "            logits.append(logit.detach())\n",
        "        print(f'Logits for hard examples={logits}')\n",
        "        return logits\n",
        "\n",
        "\n",
        "def train_model(hidden_dim, lr, num_steps=100, sequence_len=10):\n",
        "    model = Model(hidden_dim=hidden_dim)\n",
        "    loss_function = nn.BCEWithLogitsLoss()\n",
        "    optimizer = optim.SGD(model.parameters(), lr=lr, momentum=0.99)\n",
        "    while sequence_len < 20: #todo warunek stopu\n",
        "      HARD_EXAMPLES = [([0.]+(sequence_len-1)*[1.], 0),\n",
        "                 (sequence_len*[1.], 1)]\n",
        "\n",
        "      for step in range(num_steps):  \n",
        "          if step % 100 == 0:\n",
        "              logits = eval_on_hard_examples(model, HARD_EXAMPLES)\n",
        "\n",
        "          for sequence, label in HARD_EXAMPLES:\n",
        "              model.zero_grad()\n",
        "              logit = model(torch.tensor(sequence).view(-1, 1, 1))  \n",
        "              loss = loss_function(logit.view(-1), torch.tensor([label], dtype=torch.float32))\n",
        "              loss.backward()\n",
        "              optimizer.step()   \n",
        "      print(logits, sequence_len)\n",
        "      sequence_len += 1\n",
        "\n"
      ],
      "execution_count": 35,
      "outputs": []
    },
    {
      "cell_type": "code",
      "metadata": {
        "colab": {
          "base_uri": "https://localhost:8080/"
        },
        "id": "9PGt62HUE7iD",
        "outputId": "e8848c46-a438-49f1-dc9c-36ddda6db3cb"
      },
      "source": [
        "train_model(hidden_dim=20, lr=0.01, num_steps=1000, sequence_len=10)"
      ],
      "execution_count": 38,
      "outputs": [
        {
          "output_type": "stream",
          "text": [
            "Logits for hard examples=[tensor([0.1804]), tensor([0.1804])]\n",
            "Logits for hard examples=[tensor([0.0101]), tensor([0.0102])]\n",
            "Logits for hard examples=[tensor([-0.0214]), tensor([-0.0213])]\n",
            "Logits for hard examples=[tensor([0.0077]), tensor([0.0080])]\n",
            "Logits for hard examples=[tensor([-0.0002]), tensor([0.0005])]\n",
            "Logits for hard examples=[tensor([0.0011]), tensor([0.0033])]\n",
            "Logits for hard examples=[tensor([-0.5495]), tensor([0.3407])]\n",
            "Logits for hard examples=[tensor([-12.0502]), tensor([12.8729])]\n",
            "Logits for hard examples=[tensor([-14.0473]), tensor([15.0084])]\n",
            "Logits for hard examples=[tensor([-14.3138]), tensor([15.2921])]\n",
            "[tensor([-14.3138]), tensor([15.2921])] 10\n",
            "Logits for hard examples=[tensor([-14.3535]), tensor([15.3431])]\n",
            "Logits for hard examples=[tensor([-14.3588]), tensor([15.3483])]\n",
            "Logits for hard examples=[tensor([-14.3599]), tensor([15.3491])]\n",
            "Logits for hard examples=[tensor([-14.3604]), tensor([15.3494])]\n",
            "Logits for hard examples=[tensor([-14.3609]), tensor([15.3495])]\n",
            "Logits for hard examples=[tensor([-14.3613]), tensor([15.3495])]\n",
            "Logits for hard examples=[tensor([-14.3618]), tensor([15.3495])]\n",
            "Logits for hard examples=[tensor([-14.3622]), tensor([15.3496])]\n",
            "Logits for hard examples=[tensor([-14.3627]), tensor([15.3496])]\n",
            "Logits for hard examples=[tensor([-14.3632]), tensor([15.3496])]\n",
            "[tensor([-14.3632]), tensor([15.3496])] 11\n",
            "Logits for hard examples=[tensor([-14.3659]), tensor([15.3578])]\n",
            "Logits for hard examples=[tensor([-14.3664]), tensor([15.3578])]\n",
            "Logits for hard examples=[tensor([-14.3669]), tensor([15.3578])]\n",
            "Logits for hard examples=[tensor([-14.3673]), tensor([15.3578])]\n",
            "Logits for hard examples=[tensor([-14.3678]), tensor([15.3578])]\n",
            "Logits for hard examples=[tensor([-14.3683]), tensor([15.3579])]\n",
            "Logits for hard examples=[tensor([-14.3687]), tensor([15.3579])]\n",
            "Logits for hard examples=[tensor([-14.3692]), tensor([15.3579])]\n",
            "Logits for hard examples=[tensor([-14.3697]), tensor([15.3579])]\n",
            "Logits for hard examples=[tensor([-14.3701]), tensor([15.3579])]\n",
            "[tensor([-14.3701]), tensor([15.3579])] 12\n",
            "Logits for hard examples=[tensor([-14.3721]), tensor([15.3632])]\n",
            "Logits for hard examples=[tensor([-14.3725]), tensor([15.3632])]\n",
            "Logits for hard examples=[tensor([-14.3730]), tensor([15.3632])]\n",
            "Logits for hard examples=[tensor([-14.3735]), tensor([15.3632])]\n",
            "Logits for hard examples=[tensor([-14.3739]), tensor([15.3632])]\n",
            "Logits for hard examples=[tensor([-14.3744]), tensor([15.3633])]\n",
            "Logits for hard examples=[tensor([-14.3749]), tensor([15.3633])]\n",
            "Logits for hard examples=[tensor([-14.3753]), tensor([15.3633])]\n",
            "Logits for hard examples=[tensor([-14.3758]), tensor([15.3633])]\n",
            "Logits for hard examples=[tensor([-14.3762]), tensor([15.3633])]\n",
            "[tensor([-14.3762]), tensor([15.3633])] 13\n",
            "Logits for hard examples=[tensor([-14.3777]), tensor([15.3668])]\n",
            "Logits for hard examples=[tensor([-14.3781]), tensor([15.3668])]\n",
            "Logits for hard examples=[tensor([-14.3786]), tensor([15.3668])]\n",
            "Logits for hard examples=[tensor([-14.3791]), tensor([15.3668])]\n",
            "Logits for hard examples=[tensor([-14.3795]), tensor([15.3668])]\n",
            "Logits for hard examples=[tensor([-14.3800]), tensor([15.3668])]\n",
            "Logits for hard examples=[tensor([-14.3805]), tensor([15.3668])]\n",
            "Logits for hard examples=[tensor([-14.3809]), tensor([15.3668])]\n",
            "Logits for hard examples=[tensor([-14.3814]), tensor([15.3668])]\n",
            "Logits for hard examples=[tensor([-14.3819]), tensor([15.3669])]\n",
            "[tensor([-14.3819]), tensor([15.3669])] 14\n",
            "Logits for hard examples=[tensor([-14.3830]), tensor([15.3691])]\n",
            "Logits for hard examples=[tensor([-14.3834]), tensor([15.3691])]\n",
            "Logits for hard examples=[tensor([-14.3839]), tensor([15.3692])]\n",
            "Logits for hard examples=[tensor([-14.3844]), tensor([15.3692])]\n",
            "Logits for hard examples=[tensor([-14.3848]), tensor([15.3692])]\n",
            "Logits for hard examples=[tensor([-14.3853]), tensor([15.3692])]\n",
            "Logits for hard examples=[tensor([-14.3858]), tensor([15.3692])]\n",
            "Logits for hard examples=[tensor([-14.3862]), tensor([15.3692])]\n",
            "Logits for hard examples=[tensor([-14.3867]), tensor([15.3692])]\n",
            "Logits for hard examples=[tensor([-14.3871]), tensor([15.3692])]\n",
            "[tensor([-14.3871]), tensor([15.3692])] 15\n",
            "Logits for hard examples=[tensor([-14.3881]), tensor([15.3707])]\n",
            "Logits for hard examples=[tensor([-14.3885]), tensor([15.3708])]\n",
            "Logits for hard examples=[tensor([-14.3890]), tensor([15.3708])]\n",
            "Logits for hard examples=[tensor([-14.3894]), tensor([15.3708])]\n",
            "Logits for hard examples=[tensor([-14.3899]), tensor([15.3708])]\n",
            "Logits for hard examples=[tensor([-14.3904]), tensor([15.3708])]\n",
            "Logits for hard examples=[tensor([-14.3908]), tensor([15.3708])]\n",
            "Logits for hard examples=[tensor([-14.3913]), tensor([15.3708])]\n",
            "Logits for hard examples=[tensor([-14.3918]), tensor([15.3708])]\n",
            "Logits for hard examples=[tensor([-14.3922]), tensor([15.3709])]\n",
            "[tensor([-14.3922]), tensor([15.3709])] 16\n",
            "Logits for hard examples=[tensor([-14.3930]), tensor([15.3719])]\n",
            "Logits for hard examples=[tensor([-14.3934]), tensor([15.3719])]\n",
            "Logits for hard examples=[tensor([-14.3939]), tensor([15.3719])]\n",
            "Logits for hard examples=[tensor([-14.3944]), tensor([15.3719])]\n",
            "Logits for hard examples=[tensor([-14.3948]), tensor([15.3719])]\n",
            "Logits for hard examples=[tensor([-14.3953]), tensor([15.3719])]\n",
            "Logits for hard examples=[tensor([-14.3958]), tensor([15.3719])]\n",
            "Logits for hard examples=[tensor([-14.3962]), tensor([15.3720])]\n",
            "Logits for hard examples=[tensor([-14.3967]), tensor([15.3720])]\n",
            "Logits for hard examples=[tensor([-14.3971]), tensor([15.3720])]\n",
            "[tensor([-14.3971]), tensor([15.3720])] 17\n",
            "Logits for hard examples=[tensor([-14.3978]), tensor([15.3727])]\n",
            "Logits for hard examples=[tensor([-14.3983]), tensor([15.3727])]\n",
            "Logits for hard examples=[tensor([-14.3987]), tensor([15.3727])]\n",
            "Logits for hard examples=[tensor([-14.3992]), tensor([15.3727])]\n",
            "Logits for hard examples=[tensor([-14.3997]), tensor([15.3727])]\n",
            "Logits for hard examples=[tensor([-14.4001]), tensor([15.3727])]\n",
            "Logits for hard examples=[tensor([-14.4006]), tensor([15.3727])]\n",
            "Logits for hard examples=[tensor([-14.4011]), tensor([15.3728])]\n",
            "Logits for hard examples=[tensor([-14.4015]), tensor([15.3728])]\n",
            "Logits for hard examples=[tensor([-14.4020]), tensor([15.3728])]\n",
            "[tensor([-14.4020]), tensor([15.3728])] 18\n",
            "Logits for hard examples=[tensor([-14.4026]), tensor([15.3732])]\n",
            "Logits for hard examples=[tensor([-14.4031]), tensor([15.3733])]\n",
            "Logits for hard examples=[tensor([-14.4035]), tensor([15.3733])]\n",
            "Logits for hard examples=[tensor([-14.4040]), tensor([15.3733])]\n",
            "Logits for hard examples=[tensor([-14.4044]), tensor([15.3733])]\n",
            "Logits for hard examples=[tensor([-14.4049]), tensor([15.3733])]\n",
            "Logits for hard examples=[tensor([-14.4054]), tensor([15.3733])]\n",
            "Logits for hard examples=[tensor([-14.4058]), tensor([15.3733])]\n",
            "Logits for hard examples=[tensor([-14.4063]), tensor([15.3734])]\n",
            "Logits for hard examples=[tensor([-14.4068]), tensor([15.3734])]\n",
            "[tensor([-14.4068]), tensor([15.3734])] 19\n"
          ],
          "name": "stdout"
        }
      ]
    }
  ]
}