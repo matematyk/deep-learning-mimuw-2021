{
  "nbformat": 4,
  "nbformat_minor": 0,
  "metadata": {
    "colab": {
      "name": "Exercise_7_Minibatch_P3.ipynb",
      "provenance": [],
      "collapsed_sections": []
    },
    "kernelspec": {
      "display_name": "Python 3",
      "language": "python",
      "name": "python3"
    },
    "language_info": {
      "codemirror_mode": {
        "name": "ipython",
        "version": 3
      },
      "file_extension": ".py",
      "mimetype": "text/x-python",
      "name": "python",
      "nbconvert_exporter": "python",
      "pygments_lexer": "ipython3",
      "version": "3.6.7"
    }
  },
  "cells": [
    {
      "cell_type": "markdown",
      "metadata": {
        "id": "ziZ9i7tXbO1T"
      },
      "source": [
        "In this lab, you should try to implement some of the techniques discussed in the lecture.\n",
        "Here is a list of reasonable tasks.\n",
        " \n",
        "Easy:\n",
        " * L1 or L2(wybrane) regularization (choose one)\n",
        " * momentum(wybrane), Nesterov's momentum (choose one)\n",
        "\n",
        "Medium difficulty:\n",
        " * Adagrad(wybrane, nie dziala), RMSProp (choose one)\n",
        " * dropout\n",
        " * data augmentation (tiny rotatations, up/down-scalings etc.) (shifts dziala)\n",
        "\n",
        "Try to test your network to see if these changes improve accuracy. They improve accuracy much more if you increase the layer size, and if you add more layers."
      ]
    },
    {
      "cell_type": "code",
      "metadata": {
        "id": "P22HqX9AbO1a"
      },
      "source": [
        "import random\n",
        "import numpy as np\n",
        "from torchvision import datasets, transforms"
      ],
      "execution_count": 2,
      "outputs": []
    },
    {
      "cell_type": "code",
      "metadata": {
        "id": "N9jGPaZhbO2B"
      },
      "source": [
        "# Let's read the mnist dataset\n",
        "\n",
        "def load_mnist(path='.'):\n",
        "    train_set = datasets.MNIST(path, train=True, download=True)\n",
        "    x_train = train_set.data.numpy()\n",
        "    _y_train = train_set.targets.numpy()\n",
        "    \n",
        "    test_set = datasets.MNIST(path, train=False, download=True)\n",
        "    x_test = test_set.data.numpy()\n",
        "    _y_test = test_set.targets.numpy()\n",
        "    \n",
        "    x_train = x_train.reshape((x_train.shape[0],28*28)) / 255.\n",
        "    x_test = x_test.reshape((x_test.shape[0],28*28)) / 255.\n",
        "\n",
        "    y_train = np.zeros((_y_train.shape[0], 10))\n",
        "    y_train[np.arange(_y_train.shape[0]), _y_train] = 1\n",
        "    \n",
        "    y_test = np.zeros((_y_test.shape[0], 10))\n",
        "    y_test[np.arange(_y_test.shape[0]), _y_test] = 1\n",
        "\n",
        "    return (x_train, y_train), (x_test, y_test)\n",
        "\n",
        "(x_train, y_train), (x_test, y_test) = load_mnist()"
      ],
      "execution_count": 20,
      "outputs": []
    },
    {
      "cell_type": "code",
      "metadata": {
        "id": "w3gAyqw4bO1p"
      },
      "source": [
        "def sigmoid(z):\n",
        "    return 1.0/(1.0+np.exp(-z))\n",
        "\n",
        "def sigmoid_prime(z):\n",
        "    # Derivative of the sigmoid\n",
        "    return sigmoid(z)*(1-sigmoid(z))"
      ],
      "execution_count": 4,
      "outputs": []
    },
    {
      "cell_type": "code",
      "metadata": {
        "id": "FgEA2XRRbO2X"
      },
      "source": [
        "class Network(object):\n",
        "    def __init__(self, sizes):\n",
        "        # initialize biases and weights with random normal distr.\n",
        "        # weights are indexed by target node first\n",
        "        self.num_layers = len(sizes)\n",
        "        self.sizes = sizes\n",
        "        self.biases = [np.random.randn(y, 1) for y in sizes[1:]]\n",
        "        self.weights = [np.random.randn(y, x) \n",
        "                        for x, y in zip(sizes[:-1], sizes[1:])]\n",
        "        self.G_weights = [np.zeros([y,x]) \n",
        "                        for x, y in zip(sizes[:-1], sizes[1:])]\n",
        "        self.weights_momentum = [np.zeros([y, x]) \n",
        "                        for x, y in zip(sizes[:-1], sizes[1:])]\n",
        "        self.biases_momentum = [np.zeros([y, 1]) for y in sizes[1:]]\n",
        "        \n",
        "        self.G_biases = [np.zeros([y, 1]) for y in sizes[1:]]\n",
        "        \n",
        "\n",
        "    def feedforward(self, a):\n",
        "        # Run the network on a batch\n",
        "        a = a.T\n",
        "        for b, w in zip(self.biases, self.weights):\n",
        "            a = sigmoid(np.matmul(w, a)+b)\n",
        "        return a\n",
        "    \n",
        "    def update_mini_batch(self, mini_batch, eta, momentum=0, l2=0, adgrad = False):\n",
        "        # Update networks weights and biases by applying a single step\n",
        "        # of gradient descent using backpropagation to compute the gradient.\n",
        "        # The gradient is computed for a mini_batch which is as in tensorflow API.\n",
        "        # eta is the learning rate      \n",
        "        nabla_b, nabla_w = self.backprop(x=mini_batch[0].T,y=mini_batch[1].T)\n",
        "        \n",
        "        # implementation Adgrad  \n",
        "        #if adgrad:\n",
        "        #  eps = 10**(-8)\n",
        "        #  self.G_weights = [g + w**2 for w, g in zip(nabla_w, self.G_weights) ]\n",
        "        #  self.weights = [w-(eta/np.sqrt(g + eps ))*nw \n",
        "        #                    for w, nw, g in zip(self.weights, nabla_w, self.G_weights)] #list of weights\n",
        "          \n",
        "        #  self.G_biases = [g + b**2 for b, g in zip(nabla_b, self.G_biases) ]\n",
        "        #  self.biases = [b-(eta/np.sqrt(g + eps))*nb \n",
        "        #                    for b, nb, g in zip(self.biases, nabla_b, self.G_biases)] #list of biases \n",
        "        #  return  \n",
        "        # momentum for and l2 regularizaction\n",
        "        self.weights_momentum = [ momentum* w - eta/len(mini_batch[0]) * nw \n",
        "                                  for w, nw in zip(self.weights, nabla_w)  ]\n",
        "\n",
        "        self.weights = [(1-l2)*w+wm for w, wm in zip(self.weights, self.weights_momentum)] #list of weights\n",
        "        \n",
        "        # momentum for biases and l2 regularizaction\n",
        "        self.biases_momentum = [ momentum * b - eta/len(mini_batch[0]) * nb\n",
        "                                  for b, nb in zip(self.biases, self.biases_momentum)]\n",
        "\n",
        "        self.biases = [(1-l2)*b+bm for b, bm in zip(self.biases, self.biases_momentum)] #list of biases \n",
        "\n",
        "    def backprop(self, x, y):\n",
        "        # For a single input (x,y) return a pair of lists.\n",
        "        # First contains gradients over biases, second over weights.\n",
        "        g = x\n",
        "        gs = [g] # list to store all the gs, layer by layer\n",
        "        fs = [] # list to store all the fs, layer by layer\n",
        "        for b, w in zip(self.biases, self.weights):\n",
        "            f = np.dot(w, g)+b\n",
        "            fs.append(f) #weighed sum \n",
        "            g = sigmoid(f) #activation function\n",
        "            gs.append(g) #neurons\n",
        "        # backward pass <- both steps at once\n",
        "        dLdg = self.cost_derivative(gs[-1], y) # last layer\n",
        "        dLdfs = []\n",
        "        for w,g in reversed(list(zip(self.weights,gs[1:]))): #from last layer to first\n",
        "            dLdf = np.multiply(dLdg,np.multiply(g,1-g))\n",
        "            dLdfs.append(dLdf)\n",
        "            dLdg = np.matmul(w.T, dLdf)\n",
        "\n",
        "        dLdWs = [np.matmul(dLdf,g.T) for dLdf,g in zip(reversed(dLdfs),gs[:-1])] # automatic here matmul - matrix product\n",
        "        dLdBs = [np.sum(dLdf,axis=1).reshape(dLdf.shape[0],1) for dLdf in reversed(dLdfs)] # CHANGE: Need to sum here\n",
        "        return (dLdBs,dLdWs)\n",
        "\n",
        "    def evaluate(self, test_data):\n",
        "        # Count the number of correct answers for test_data\n",
        "        pred = np.argmax(self.feedforward(test_data[0]),axis=0)\n",
        "        corr = np.argmax(test_data[1],axis=1).T\n",
        "        return np.mean(pred==corr)\n",
        "    \n",
        "    def cost_derivative(self, output_activations, y):\n",
        "        return (output_activations-y) \n",
        "    \n",
        "    def SGD(self, training_data, epochs, mini_batch_size, eta, momentum=0, l2=0, test_data=None):\n",
        "        x_train, y_train = training_data\n",
        "        if test_data:\n",
        "            x_test, y_test = test_data\n",
        "        for j in range(epochs):\n",
        "            for i in range(x_train.shape[0] // mini_batch_size):\n",
        "                x_mini_batch = x_train[(mini_batch_size*i):(mini_batch_size*(i+1))]\n",
        "                y_mini_batch = y_train[(mini_batch_size*i):(mini_batch_size*(i+1))]\n",
        "                self.update_mini_batch((x_mini_batch, y_mini_batch), eta=eta, momentum=momentum, l2=l2)\n",
        "            if test_data:\n",
        "                print(\"Epoch: {0}, Accuracy: {1}\".format(j, self.evaluate((x_test, y_test))))\n",
        "            else:\n",
        "                print(\"Epoch: {0}\".format(j))\n"
      ],
      "execution_count": 32,
      "outputs": []
    },
    {
      "cell_type": "code",
      "metadata": {
        "colab": {
          "base_uri": "https://localhost:8080/"
        },
        "id": "HeIv-syTWVEP",
        "outputId": "7e382b5d-3046-4d92-899e-3dc782fb8ad9"
      },
      "source": [
        "network = Network([784,30,10])\n",
        "network.SGD((x_train, y_train), epochs=20, mini_batch_size=100, eta=3.0, test_data=(x_test, y_test))\n"
      ],
      "execution_count": 34,
      "outputs": [
        {
          "output_type": "stream",
          "text": [
            "Epoch: 0, Accuracy: 0.6219\n",
            "Epoch: 1, Accuracy: 0.7382\n",
            "Epoch: 2, Accuracy: 0.7673\n",
            "Epoch: 3, Accuracy: 0.7812\n",
            "Epoch: 4, Accuracy: 0.7893\n",
            "Epoch: 5, Accuracy: 0.7952\n",
            "Epoch: 6, Accuracy: 0.8004\n",
            "Epoch: 7, Accuracy: 0.8038\n",
            "Epoch: 8, Accuracy: 0.8063\n",
            "Epoch: 9, Accuracy: 0.8084\n",
            "Epoch: 10, Accuracy: 0.812\n",
            "Epoch: 11, Accuracy: 0.8137\n",
            "Epoch: 12, Accuracy: 0.815\n",
            "Epoch: 13, Accuracy: 0.8166\n",
            "Epoch: 14, Accuracy: 0.8176\n",
            "Epoch: 15, Accuracy: 0.8185\n",
            "Epoch: 16, Accuracy: 0.8195\n",
            "Epoch: 17, Accuracy: 0.8207\n",
            "Epoch: 18, Accuracy: 0.8217\n",
            "Epoch: 19, Accuracy: 0.8222\n"
          ],
          "name": "stdout"
        }
      ]
    },
    {
      "cell_type": "markdown",
      "metadata": {
        "id": "RbnQqar_OSgv"
      },
      "source": [
        "Momentum:\n",
        "Accumulate gradients from recent iterations.  Updateparameters like this:\n",
        "$$\n",
        "x_{t}= x_{t} + v_{t+1}\n",
        "$$\n",
        "with\n",
        "$$ \n",
        "v_t = \\gamma v_t - \\eta \\nabla L(x_t)\n",
        "$$\n"
      ]
    },
    {
      "cell_type": "code",
      "metadata": {
        "id": "jYjjf8MQmw5g"
      },
      "source": [
        "from scipy.ndimage.interpolation import shift\n",
        "\n",
        "\n",
        "def shift_image(image, shiftx, shifty):\n",
        "    image = image.reshape((28, 28))\n",
        "    shifted_image = shift(image, [shiftx, shifty], mode=\"wrap\")\n",
        "    \n",
        "    return shifted_image.reshape([-1])\n",
        "\n",
        "def augmented_images(x_train, y_train):\n",
        "    y_train_new, x_train_new = [], []\n",
        "    n = len(x_train)\n",
        "\n",
        "    shiftx = np.random.randint(-3, 3, n)\n",
        "    shifty = np.random.randint(-3, 3, n)\n",
        "\n",
        "    for image, label, shiftx, shifty in zip(x_train, y_train, shiftx, shifty):\n",
        "      x_train_new.append(shift_image(image, shiftx, shifty))\n",
        "      y_train_new.append(label)\n",
        "\n",
        "    return (np.array(x_train_new), np.array(y_train_new))\n",
        "\n"
      ],
      "execution_count": 37,
      "outputs": []
    },
    {
      "cell_type": "markdown",
      "metadata": {
        "id": "GtQSNQ7vZPCj"
      },
      "source": [
        "### Augmented images"
      ]
    },
    {
      "cell_type": "code",
      "metadata": {
        "colab": {
          "base_uri": "https://localhost:8080/",
          "height": 102
        },
        "id": "v-lj_ToXRbgq",
        "outputId": "40ad58f6-08f2-4384-ffc1-38380e9a14b1"
      },
      "source": [
        "import matplotlib.pyplot as plt\n",
        "\n",
        "x_shift, y_shift = augmented_images(x_train, y_train)\n",
        "\n",
        "x_train = np.concatenate([x_train, x_shift])\n",
        "y_train = np.concatenate([y_train, y_shift])\n",
        "\n"
      ],
      "execution_count": 41,
      "outputs": [
        {
          "output_type": "display_data",
          "data": {
            "image/png": "[encoded data removed]",
            "text/plain": [
              "<Figure size 1080x1080 with 10 Axes>"
            ]
          },
          "metadata": {
            "tags": [],
            "needs_background": "light"
          }
        }
      ]
    },
    {
      "cell_type": "code",
      "metadata": {
        "colab": {
          "base_uri": "https://localhost:8080/",
          "height": 102
        },
        "id": "I2wVXTaqZNI6",
        "outputId": "35b0ee78-b6dd-412d-fd45-078ad83d45e9"
      },
      "source": [
        "num_samples = 10\n",
        "samples = range(num_samples)\n",
        "fig, subplots = plt.subplots(1, num_samples)\n",
        "fig.set_size_inches(15, 15)\n",
        "\n",
        "for i, s in enumerate(subplots.flatten()):\n",
        "    s.imshow(np.reshape(x_shift[i, :], [28, 28]), cmap='gray')\n",
        "    s.axis('off')"
      ],
      "execution_count": 42,
      "outputs": [
        {
          "output_type": "display_data",
          "data": {
            "image/png": "[encoded data removed]",
            "text/plain": [
              "<Figure size 1080x1080 with 10 Axes>"
            ]
          },
          "metadata": {
            "tags": [],
            "needs_background": "light"
          }
        }
      ]
    }
  ]
}