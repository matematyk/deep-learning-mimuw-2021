{
  "nbformat": 4,
  "nbformat_minor": 0,
  "metadata": {
    "colab": {
      "name": "zadanie5-Sofrmax-regression.ipynb",
      "provenance": [],
      "collapsed_sections": []
    },
    "kernelspec": {
      "display_name": "Python 3",
      "language": "python",
      "name": "python3"
    },
    "language_info": {
      "codemirror_mode": {
        "name": "ipython",
        "version": 3
      },
      "file_extension": ".py",
      "mimetype": "text/x-python",
      "name": "python",
      "nbconvert_exporter": "python",
      "pygments_lexer": "ipython3",
      "version": "3.8.3"
    }
  },
  "cells": [
    {
      "cell_type": "markdown",
      "metadata": {
        "id": "H_xdi0AUN81t"
      },
      "source": [
        "# Softmax regression\n",
        "\n",
        "In this exercise you will train a softmax regression model to recognize handwritten digits.\n",
        "  \n",
        "The general setup is as follows:\n",
        "* we are given a set of pairs $(x, y)$, where $x \\in R^D$ is a vector of real numbers representing the features, and $y \\in \\{1,...,c\\}$ is the target (in our case we have ten classes, so $c=10$),\n",
        "* for a given $x$ we model the probability of $y=j$ by $$h(x)_j=p_j = \\frac{e^{w_j^Tx}}{\\sum_{i=1}^c e^{w_i^Tx}},$$\n",
        "* to find the right $w$ we will optimize the so called multiclass log loss:\n",
        "$$L(y,p) = \\log{p_y},$$\n",
        "$$J(w) = -\\frac{1}{n}\\sum_{i=1}^n L(y_i,h(x)),$$\n",
        "* with the loss function in hand we can improve our guesses iteratively:\n",
        "    * $w_{ij}^{t+1} = w_{ij}^t - \\text{step_size} \\cdot \\frac{\\partial J(w)}{\\partial w_{ij}}$,\n",
        "* we can end the process after some predefined number of epochs (or when the changes are no longer meaningful)."
      ]
    },
    {
      "cell_type": "markdown",
      "metadata": {
        "id": "P3yuYp69N810"
      },
      "source": [
        "Let's start with importing the MNIST dataset."
      ]
    },
    {
      "cell_type": "code",
      "metadata": {
        "colab": {
          "base_uri": "https://localhost:8080/"
        },
        "id": "0ZOx1cckN814",
        "outputId": "c15400b0-f97d-4725-d38c-eae78e8d9407"
      },
      "source": [
        "!wget -O mnist.npz https://s3.amazonaws.com/img-datasets/mnist.npz"
      ],
      "execution_count": null,
      "outputs": [
        {
          "output_type": "stream",
          "text": [
            "--2021-04-12 21:17:47--  https://s3.amazonaws.com/img-datasets/mnist.npz\n",
            "Resolving s3.amazonaws.com (s3.amazonaws.com)... 52.216.233.37\n",
            "Connecting to s3.amazonaws.com (s3.amazonaws.com)|52.216.233.37|:443... connected.\n",
            "HTTP request sent, awaiting response... 200 OK\n",
            "Length: 11490434 (11M) [application/octet-stream]\n",
            "Saving to: ‘mnist.npz’\n",
            "\n",
            "mnist.npz           100%[===================>]  10.96M  71.9MB/s    in 0.2s    \n",
            "\n",
            "2021-04-12 21:17:47 (71.9 MB/s) - ‘mnist.npz’ saved [11490434/11490434]\n",
            "\n"
          ],
          "name": "stdout"
        }
      ]
    },
    {
      "cell_type": "code",
      "metadata": {
        "id": "cfggfnt5N82K"
      },
      "source": [
        "%matplotlib inline\n",
        "\n",
        "import matplotlib.pyplot as plt\n",
        "import numpy as np\n",
        "import pandas as pd\n",
        "import seaborn as sns\n",
        "\n",
        "def load_mnist(path='mnist.npz'):\n",
        "    with np.load(path) as f:\n",
        "        x_train, _y_train = f['x_train'], f['y_train']\n",
        "        x_test, _y_test = f['x_test'], f['y_test']\n",
        "        \n",
        "    x_train = x_train.reshape(-1, 28 * 28) / 255.\n",
        "    x_test = x_test.reshape(-1, 28 * 28) / 255.\n",
        "    \n",
        "    y_train = np.zeros((_y_train.shape[0], 10))\n",
        "    y_train[np.arange(_y_train.shape[0]), _y_train] = 1\n",
        "    \n",
        "    y_test = np.zeros((_y_test.shape[0], 10))\n",
        "    y_test[np.arange(_y_test.shape[0]), _y_test] = 1\n",
        "\n",
        "    return (x_train, y_train), (x_test, y_test)\n",
        "\n",
        "(x_train, y_train), (x_test, y_test) = load_mnist()"
      ],
      "execution_count": null,
      "outputs": []
    },
    {
      "cell_type": "markdown",
      "metadata": {
        "id": "zjFxWDLnN82X"
      },
      "source": [
        "Let's take a look at the data. In the \"x\" arrays you'll find the images (encoded as pixel intensities) and in the \"y\" ones you'll find the labels (one-hot encoded)."
      ]
    },
    {
      "cell_type": "code",
      "metadata": {
        "colab": {
          "base_uri": "https://localhost:8080/"
        },
        "id": "sxPEnhO_N82d",
        "outputId": "5fc0fa0e-b642-44ea-9f97-f0ec1ca84f6b"
      },
      "source": [
        "print(x_train.shape)\n",
        "print(y_train.shape)\n",
        "\n",
        "print(x_train[:10])\n",
        "print(y_train[:10])"
      ],
      "execution_count": null,
      "outputs": [
        {
          "output_type": "stream",
          "text": [
            "(60000, 784)\n",
            "(60000, 10)\n",
            "[[0. 0. 0. ... 0. 0. 0.]\n",
            " [0. 0. 0. ... 0. 0. 0.]\n",
            " [0. 0. 0. ... 0. 0. 0.]\n",
            " ...\n",
            " [0. 0. 0. ... 0. 0. 0.]\n",
            " [0. 0. 0. ... 0. 0. 0.]\n",
            " [0. 0. 0. ... 0. 0. 0.]]\n",
            "[[0. 0. 0. 0. 0. 1. 0. 0. 0. 0.]\n",
            " [1. 0. 0. 0. 0. 0. 0. 0. 0. 0.]\n",
            " [0. 0. 0. 0. 1. 0. 0. 0. 0. 0.]\n",
            " [0. 1. 0. 0. 0. 0. 0. 0. 0. 0.]\n",
            " [0. 0. 0. 0. 0. 0. 0. 0. 0. 1.]\n",
            " [0. 0. 1. 0. 0. 0. 0. 0. 0. 0.]\n",
            " [0. 1. 0. 0. 0. 0. 0. 0. 0. 0.]\n",
            " [0. 0. 0. 1. 0. 0. 0. 0. 0. 0.]\n",
            " [0. 1. 0. 0. 0. 0. 0. 0. 0. 0.]\n",
            " [0. 0. 0. 0. 1. 0. 0. 0. 0. 0.]]\n"
          ],
          "name": "stdout"
        }
      ]
    },
    {
      "cell_type": "markdown",
      "metadata": {
        "id": "yATia4LaN82n"
      },
      "source": [
        "Now let us see the data in a more human way."
      ]
    },
    {
      "cell_type": "code",
      "metadata": {
        "colab": {
          "base_uri": "https://localhost:8080/",
          "height": 66
        },
        "id": "LXk-h0YuN82q",
        "outputId": "73a97640-782b-4eb3-b73a-ef71beb24974"
      },
      "source": [
        "num_samples = 20\n",
        "samples = range(num_samples)\n",
        "fig, subplots = plt.subplots(1, num_samples)\n",
        "fig.set_size_inches(15, 15)\n",
        "\n",
        "for i, s in enumerate(subplots.flatten()):\n",
        "    s.imshow(np.reshape(x_train[i, :], [28, 28]), cmap='gray')\n",
        "    s.axis('off')"
      ],
      "execution_count": null,
      "outputs": [
        {
          "output_type": "display_data",
          "data": {
            "image/png": "[encoded data removed]",
            "text/plain": [
              "<Figure size 1080x1080 with 20 Axes>"
            ]
          },
          "metadata": {
            "tags": [],
            "needs_background": "light"
          }
        }
      ]
    },
    {
      "cell_type": "markdown",
      "metadata": {
        "id": "hgFd3QrRN82w"
      },
      "source": [
        "Next, we prepare $X$ and $y$ variables"
      ]
    },
    {
      "cell_type": "code",
      "metadata": {
        "colab": {
          "base_uri": "https://localhost:8080/"
        },
        "id": "iQKol9KmN82z",
        "outputId": "28890d26-a749-4eb2-ce5b-5aafc429cc9f"
      },
      "source": [
        "X = x_train[:4000]\n",
        "y = y_train[:4000]\n",
        "\n",
        "print(X.shape)\n",
        "print(y.shape)"
      ],
      "execution_count": null,
      "outputs": [
        {
          "output_type": "stream",
          "text": [
            "(4000, 784)\n",
            "(4000, 10)\n"
          ],
          "name": "stdout"
        }
      ]
    },
    {
      "cell_type": "markdown",
      "metadata": {
        "id": "JpAv_SngN83A"
      },
      "source": [
        "To train the model we will (obviously) use gradient descent. Inside the loop we need a method to compute the gradients. Let's start with implementing it, together with some helper functions."
      ]
    },
    {
      "cell_type": "code",
      "metadata": {
        "id": "pUCxU7qEN83D"
      },
      "source": [
        "# We will store the weights in a D x c matrix, where D is the number of features, and c is the number of classes\n",
        "#weights = (...) # TODO: Fill in, be sure to have the right shape!\n",
        "weights = np.random.rand(X.shape[1], y.shape[1])\n",
        "\n",
        "\n",
        "\n",
        "def softmax(z):\n",
        "    return (np.exp(z).T /np.sum(np.exp(z),axis=1)).T\n",
        "\n",
        "def softmaxv(z):\n",
        "    return np.exp(z) / sum(np.exp(z))\n",
        "\n",
        "def predictv(weights, X):\n",
        "    return softmaxv(np.dot(X, weights))\n",
        "\n",
        "def predict(weights, X):\n",
        "    ###################################\n",
        "    # TODO: compute the probabilities #\n",
        "    ###################################\n",
        "    return softmax(np.dot(X, weights))\n",
        "\n",
        "from numpy import linalg as LA\n",
        "def compute_loss_and_gradients(weights, X, y, l2_reg):\n",
        "    #############################################################################\n",
        "    # TODO: compute loss and gradients, don't forget to include regularization! #\n",
        "    #############################################################################\n",
        "    #loss = 0\n",
        "    #grad = 0\n",
        "    m = X.shape[1]\n",
        "    #loss1 =0 \n",
        "    #for i in range(m):\n",
        "    #  loss1 += np.dot(y[i], np.transpose(np.log(predictv(weights, X[i])))) \n",
        "    #loss1 = - loss1 / m  + l2_reg * np.sum(weights**2)\n",
        "    #print(loss1)\n",
        "      #+ l2_reg.np.sum(weights**2)\n",
        "      #+ l2_reg* LA.norm(weights,2)\n",
        "    #loss = loss / m \n",
        "    #loss = -np.trace(np.dot(np.log(predict(weights, X)), y))/ y.shape[0] + l2_reg * np.sum(weights**2)\n",
        "    #loss bez \n",
        "    loss = -np.trace(np.dot(np.log(predict(weights, X)), y.T))/y.shape[0] + l2_reg * np.sum(weights**2)\n",
        "    #+ l2_reg* np.sum(weights**2) \n",
        "    #grad1 = np.zeros([X.shape[1], 10])\n",
        "    #for i in range(m):\n",
        "    #    for k in range(10):\n",
        "    #      grad1[i,k] =  np.sum(X[i]*((y[i][k] - predict(weights,X[i])[k])))\n",
        "    \n",
        "    #grad = grad + l2_reg * weights\n",
        "    #grad = -np.dot(X.T, y - pred) / y.shape[0] l2_reg * weights\n",
        "    #grad = -np.dot(X.T, (y.T-predict(weights, X)).T) / y.shape[0] + l2_reg*weights\n",
        "    grad = -np.dot(X.T, y - predict(weights, X)) / y.shape[0] + l2_reg*weights\n",
        "    # pochodna loss z wagami\n",
        "    #grad1 = np.zeros([X.shape[1], 10])\n",
        "    #for i in range(X.shape[0]):\n",
        "    #  grad1 += np.outer(X[i], (y-predict(weights, X))[i])\n",
        "\n",
        "    #grad1 = -grad1 / X.shape[0]\n",
        "    #print(grad1)\n",
        "\n",
        "\n",
        "    return loss, grad\n",
        "    "
      ],
      "execution_count": null,
      "outputs": []
    },
    {
      "cell_type": "markdown",
      "metadata": {
        "id": "E65eXzFVN83Q"
      },
      "source": [
        "We are now in position to complete the training pipeline.\n",
        "\n",
        "If you have problems with convergence, be sure to check the gradients numerically."
      ]
    },
    {
      "cell_type": "code",
      "metadata": {
        "colab": {
          "base_uri": "https://localhost:8080/",
          "height": 282
        },
        "id": "SyqXq54QN83W",
        "scrolled": false,
        "outputId": "9e7e07ec-e0f1-4a35-ca29-82c654413ff1"
      },
      "source": [
        "l2_reg = 0.5\n",
        "n_epochs = 240\n",
        "lr = 0.05\n",
        "\n",
        "losses = []\n",
        "for i in range(n_epochs):\n",
        "    loss, grad = compute_loss_and_gradients(weights, X, y, l2_reg)\n",
        "    losses.append(loss)\n",
        "    \n",
        "    weights -= lr * grad\n",
        "\n",
        "plt.plot(losses)"
      ],
      "execution_count": null,
      "outputs": [
        {
          "output_type": "execute_result",
          "data": {
            "text/plain": [
              "[<matplotlib.lines.Line2D at 0x7f4326d33e10>]"
            ]
          },
          "metadata": {
            "tags": []
          },
          "execution_count": 7
        },
        {
          "output_type": "display_data",
          "data": {
            "image/png": "[encoded data removed]",
            "text/plain": [
              "<Figure size 432x288 with 1 Axes>"
            ]
          },
          "metadata": {
            "tags": [],
            "needs_background": "light"
          }
        }
      ]
    },
    {
      "cell_type": "markdown",
      "metadata": {
        "id": "GZ5RVGfaN83j"
      },
      "source": [
        "\n",
        "\n",
        "Now compute your accuracy on the training and test sets."
      ]
    },
    {
      "cell_type": "code",
      "metadata": {
        "id": "WkPf223hN83q"
      },
      "source": [
        "##############################\n",
        "# TODO: compute the accuracy #\n",
        "##############################"
      ],
      "execution_count": null,
      "outputs": []
    },
    {
      "cell_type": "code",
      "metadata": {
        "id": "u0qRBIGpydkF"
      },
      "source": [
        "def accuracy(y_pred, y_acc):\n",
        "  correct = 0\n",
        "  total = 0\n",
        "  for i in range(len(y_pred)):\n",
        "      act_label = np.argmax(y_acc[i]) # act_label = 1 (index)\n",
        "      pred_label = np.argmax(y_pred[i]) # pred_label = 1 (index)\n",
        "      if(act_label == pred_label):\n",
        "          correct += 1\n",
        "      total += 1\n",
        "  accuracy = (correct/total)\n",
        "  return accuracy"
      ],
      "execution_count": null,
      "outputs": []
    },
    {
      "cell_type": "code",
      "metadata": {
        "colab": {
          "base_uri": "https://localhost:8080/"
        },
        "id": "U8V9Y0qDyllu",
        "outputId": "1abc15c3-fdaf-4a1e-b711-2cce8c610b37"
      },
      "source": [
        "y_pred = predict(weights, X)\n",
        "accuracy(y_pred, y)"
      ],
      "execution_count": null,
      "outputs": [
        {
          "output_type": "execute_result",
          "data": {
            "text/plain": [
              "0.822"
            ]
          },
          "metadata": {
            "tags": []
          },
          "execution_count": 9
        }
      ]
    },
    {
      "cell_type": "markdown",
      "metadata": {
        "id": "rqcHaryrN83v"
      },
      "source": [
        "We can also visualize the weights learned by our algorithm. Try to anticipate the result before executing the cell below."
      ]
    },
    {
      "cell_type": "code",
      "metadata": {
        "colab": {
          "base_uri": "https://localhost:8080/",
          "height": 102
        },
        "id": "DC30gyHHN83y",
        "outputId": "6f52d2da-75b4-411a-b19e-1bb9ee4eb65f"
      },
      "source": [
        "fig, subplots = plt.subplots(1, 10)\n",
        "fig.set_size_inches(15, 15)\n",
        "\n",
        "for i, s in enumerate(subplots.flatten()):\n",
        "    s.imshow(np.reshape(np.array(weights[:, i]), [28, 28]), cmap='gray')\n",
        "    s.axis('off')"
      ],
      "execution_count": null,
      "outputs": [
        {
          "output_type": "display_data",
          "data": {
            "image/png": "[encoded data removed]",
            "text/plain": [
              "<Figure size 1080x1080 with 10 Axes>"
            ]
          },
          "metadata": {
            "tags": [],
            "needs_background": "light"
          }
        }
      ]
    },
    {
      "cell_type": "markdown",
      "metadata": {
        "collapsed": true,
        "id": "OsgljzA_N837"
      },
      "source": [
        "Note that we only used a small portion of the data to develop the model. Now, implement the training on full data. Also, validate your model properly and find a good value for `l2_reg` hyperparameter. Try to experiment with `batch_size`."
      ]
    },
    {
      "cell_type": "code",
      "metadata": {
        "id": "Tl8dXAPfN839"
      },
      "source": [
        "################################################\n",
        "# TODO: implement the proper training pipeline #\n",
        "################################################\n",
        "\n",
        "def fit(X, y, l2_reg=0.5, n_epochs=250, lr=0.5, batch_size=X.shape[0]):\n",
        "  weights = np.random.rand(X.shape[1], y.shape[1])\n",
        "  losses = []\n",
        "  for i in range(n_epochs):\n",
        "    for j in range(0, X.shape[0], batch_size):\n",
        "      loss, grad = compute_loss_and_gradients(weights, X[j:j+batch_size], y[j:j+batch_size], l2_reg)\n",
        "      losses.append(loss)\n",
        "      \n",
        "      weights -= lr * grad\n",
        "  return weights, losses\n",
        "\n",
        "\n"
      ],
      "execution_count": null,
      "outputs": []
    },
    {
      "cell_type": "code",
      "metadata": {
        "colab": {
          "base_uri": "https://localhost:8080/"
        },
        "id": "HSjfXOGB64y3",
        "outputId": "ef7ebeb8-9f49-4e59-df7f-648ffe018ad3"
      },
      "source": [
        "weights, losses = fit(x_train[:8000], y_train[:8000], n_epochs=10)\n",
        "y_pred = predict(weights, X)\n",
        "accuracy(y_pred, y)\n",
        "print(y_pred.shape)\n",
        "print(y.shape)\n"
      ],
      "execution_count": null,
      "outputs": [
        {
          "output_type": "stream",
          "text": [
            "(4000, 10)\n",
            "(4000, 10)\n"
          ],
          "name": "stdout"
        }
      ]
    },
    {
      "cell_type": "markdown",
      "metadata": {
        "id": "V7fq8DFsblaG"
      },
      "source": [
        ""
      ]
    },
    {
      "cell_type": "code",
      "metadata": {
        "id": "Yf1Bo6m316Nv"
      },
      "source": [
        "from sklearn.model_selection import KFold\n",
        "\n",
        "def cross_validation_split(X, y, l2_reg, n_epochs, lr, n_splits=10, batch_size=X.shape[0]):\n",
        "  kfold =KFold(n_splits=n_splits)\n",
        "  accuracies = []\n",
        "  for train_index, test_index in kfold.split(X, y):  \n",
        "      x_train_fold = X[train_index] \n",
        "      y_train_fold = y[train_index] \n",
        "      x_test_fold = X[test_index] \n",
        "      y_test_fold = y[test_index] \n",
        "\n",
        "      \n",
        "      weights, losses = fit(x_train_fold, y_train_fold, l2_reg, n_epochs, lr)\n",
        "      \n",
        "      y_pred = predict(weights, x_test_fold)\n",
        "\n",
        "      accuracies.append(accuracy(y_pred, y_test_fold))\n",
        "  return accuracies\n",
        "    \n",
        "     "
      ],
      "execution_count": null,
      "outputs": []
    },
    {
      "cell_type": "code",
      "metadata": {
        "colab": {
          "base_uri": "https://localhost:8080/"
        },
        "id": "2deR5hIi0Ls9",
        "outputId": "dfe538cb-36e3-440b-b9ae-30e196ebbd67"
      },
      "source": [
        "print(np.mean(cross_validation_split(X, y, l2_reg=0.5, n_epochs=10, lr=0.5, n_splits=10)))"
      ],
      "execution_count": null,
      "outputs": [
        {
          "output_type": "stream",
          "text": [
            "0.71375\n"
          ],
          "name": "stdout"
        }
      ]
    },
    {
      "cell_type": "markdown",
      "metadata": {
        "id": "naB5-e8Nam14"
      },
      "source": [
        "### Hyperparameter optimization"
      ]
    },
    {
      "cell_type": "code",
      "metadata": {
        "colab": {
          "base_uri": "https://localhost:8080/",
          "height": 459
        },
        "id": "96mmL_sI90WH",
        "outputId": "bf2d47be-3cf3-4e96-f2c5-0c2bc33a3a2e"
      },
      "source": [
        "X = x_train[:4000]\n",
        "y = y_train[:4000]\n",
        "l2_reg_space = np.linspace(0.1, 0.9, num=3)\n",
        "lr_space = np.linspace(0.1, 0.9, num=3)\n",
        "batch_size = 100\n",
        "n_epochs = 250\n",
        "for lr in lr_space:\n",
        "  for l2 in l2_reg_space:\n",
        "    #for batch in range(10, 100, 10):\n",
        "    print(np.mean(cross_validation_split(X, y, l2_reg=l2, n_epochs=n_epochs, lr=lr, n_splits=10, batch_size=100)))\n",
        "    print({\"lr\":lr, \"l2\":l2})\n",
        "\n"
      ],
      "execution_count": null,
      "outputs": [
        {
          "output_type": "error",
          "ename": "KeyboardInterrupt",
          "evalue": "ignored",
          "traceback": [
            "\u001b[0;31m---------------------------------------------------------------------------\u001b[0m",
            "\u001b[0;31mKeyboardInterrupt\u001b[0m                         Traceback (most recent call last)",
            "\u001b[0;32m<ipython-input-15-8355e818eaea>\u001b[0m in \u001b[0;36m<module>\u001b[0;34m()\u001b[0m\n\u001b[1;32m      8\u001b[0m   \u001b[0;32mfor\u001b[0m \u001b[0ml2\u001b[0m \u001b[0;32min\u001b[0m \u001b[0ml2_reg_space\u001b[0m\u001b[0;34m:\u001b[0m\u001b[0;34m\u001b[0m\u001b[0;34m\u001b[0m\u001b[0m\n\u001b[1;32m      9\u001b[0m     \u001b[0;31m#for batch in range(10, 100, 10):\u001b[0m\u001b[0;34m\u001b[0m\u001b[0;34m\u001b[0m\u001b[0;34m\u001b[0m\u001b[0m\n\u001b[0;32m---> 10\u001b[0;31m     \u001b[0mprint\u001b[0m\u001b[0;34m(\u001b[0m\u001b[0mnp\u001b[0m\u001b[0;34m.\u001b[0m\u001b[0mmean\u001b[0m\u001b[0;34m(\u001b[0m\u001b[0mcross_validation_split\u001b[0m\u001b[0;34m(\u001b[0m\u001b[0mX\u001b[0m\u001b[0;34m,\u001b[0m \u001b[0my\u001b[0m\u001b[0;34m,\u001b[0m \u001b[0ml2_reg\u001b[0m\u001b[0;34m=\u001b[0m\u001b[0ml2\u001b[0m\u001b[0;34m,\u001b[0m \u001b[0mn_epochs\u001b[0m\u001b[0;34m=\u001b[0m\u001b[0mn_epochs\u001b[0m\u001b[0;34m,\u001b[0m \u001b[0mlr\u001b[0m\u001b[0;34m=\u001b[0m\u001b[0mlr\u001b[0m\u001b[0;34m,\u001b[0m \u001b[0mn_splits\u001b[0m\u001b[0;34m=\u001b[0m\u001b[0;36m10\u001b[0m\u001b[0;34m,\u001b[0m \u001b[0mbatch_size\u001b[0m\u001b[0;34m=\u001b[0m\u001b[0;36m100\u001b[0m\u001b[0;34m)\u001b[0m\u001b[0;34m)\u001b[0m\u001b[0;34m)\u001b[0m\u001b[0;34m\u001b[0m\u001b[0;34m\u001b[0m\u001b[0m\n\u001b[0m\u001b[1;32m     11\u001b[0m     \u001b[0mprint\u001b[0m\u001b[0;34m(\u001b[0m\u001b[0;34m{\u001b[0m\u001b[0;34m\"lr\"\u001b[0m\u001b[0;34m:\u001b[0m\u001b[0mlr\u001b[0m\u001b[0;34m,\u001b[0m \u001b[0;34m\"l2\"\u001b[0m\u001b[0;34m:\u001b[0m\u001b[0ml2\u001b[0m\u001b[0;34m}\u001b[0m\u001b[0;34m)\u001b[0m\u001b[0;34m\u001b[0m\u001b[0;34m\u001b[0m\u001b[0m\n\u001b[1;32m     12\u001b[0m \u001b[0;34m\u001b[0m\u001b[0m\n",
            "\u001b[0;32m<ipython-input-13-088509921103>\u001b[0m in \u001b[0;36mcross_validation_split\u001b[0;34m(X, y, l2_reg, n_epochs, lr, n_splits, batch_size)\u001b[0m\n\u001b[1;32m     11\u001b[0m \u001b[0;34m\u001b[0m\u001b[0m\n\u001b[1;32m     12\u001b[0m \u001b[0;34m\u001b[0m\u001b[0m\n\u001b[0;32m---> 13\u001b[0;31m       \u001b[0mweights\u001b[0m\u001b[0;34m,\u001b[0m \u001b[0mlosses\u001b[0m \u001b[0;34m=\u001b[0m \u001b[0mfit\u001b[0m\u001b[0;34m(\u001b[0m\u001b[0mx_train_fold\u001b[0m\u001b[0;34m,\u001b[0m \u001b[0my_train_fold\u001b[0m\u001b[0;34m,\u001b[0m \u001b[0ml2_reg\u001b[0m\u001b[0;34m,\u001b[0m \u001b[0mn_epochs\u001b[0m\u001b[0;34m,\u001b[0m \u001b[0mlr\u001b[0m\u001b[0;34m)\u001b[0m\u001b[0;34m\u001b[0m\u001b[0;34m\u001b[0m\u001b[0m\n\u001b[0m\u001b[1;32m     14\u001b[0m \u001b[0;34m\u001b[0m\u001b[0m\n\u001b[1;32m     15\u001b[0m       \u001b[0my_pred\u001b[0m \u001b[0;34m=\u001b[0m \u001b[0mpredict\u001b[0m\u001b[0;34m(\u001b[0m\u001b[0mweights\u001b[0m\u001b[0;34m,\u001b[0m \u001b[0mx_test_fold\u001b[0m\u001b[0;34m)\u001b[0m\u001b[0;34m\u001b[0m\u001b[0;34m\u001b[0m\u001b[0m\n",
            "\u001b[0;32m<ipython-input-11-cd7e5042fde1>\u001b[0m in \u001b[0;36mfit\u001b[0;34m(X, y, l2_reg, n_epochs, lr, batch_size)\u001b[0m\n\u001b[1;32m      8\u001b[0m   \u001b[0;32mfor\u001b[0m \u001b[0mi\u001b[0m \u001b[0;32min\u001b[0m \u001b[0mrange\u001b[0m\u001b[0;34m(\u001b[0m\u001b[0mn_epochs\u001b[0m\u001b[0;34m)\u001b[0m\u001b[0;34m:\u001b[0m\u001b[0;34m\u001b[0m\u001b[0;34m\u001b[0m\u001b[0m\n\u001b[1;32m      9\u001b[0m     \u001b[0;32mfor\u001b[0m \u001b[0mj\u001b[0m \u001b[0;32min\u001b[0m \u001b[0mrange\u001b[0m\u001b[0;34m(\u001b[0m\u001b[0;36m0\u001b[0m\u001b[0;34m,\u001b[0m \u001b[0mX\u001b[0m\u001b[0;34m.\u001b[0m\u001b[0mshape\u001b[0m\u001b[0;34m[\u001b[0m\u001b[0;36m0\u001b[0m\u001b[0;34m]\u001b[0m\u001b[0;34m,\u001b[0m \u001b[0mbatch_size\u001b[0m\u001b[0;34m)\u001b[0m\u001b[0;34m:\u001b[0m\u001b[0;34m\u001b[0m\u001b[0;34m\u001b[0m\u001b[0m\n\u001b[0;32m---> 10\u001b[0;31m       \u001b[0mloss\u001b[0m\u001b[0;34m,\u001b[0m \u001b[0mgrad\u001b[0m \u001b[0;34m=\u001b[0m \u001b[0mcompute_loss_and_gradients\u001b[0m\u001b[0;34m(\u001b[0m\u001b[0mweights\u001b[0m\u001b[0;34m,\u001b[0m \u001b[0mX\u001b[0m\u001b[0;34m[\u001b[0m\u001b[0mj\u001b[0m\u001b[0;34m:\u001b[0m\u001b[0mj\u001b[0m\u001b[0;34m+\u001b[0m\u001b[0mbatch_size\u001b[0m\u001b[0;34m]\u001b[0m\u001b[0;34m,\u001b[0m \u001b[0my\u001b[0m\u001b[0;34m[\u001b[0m\u001b[0mj\u001b[0m\u001b[0;34m:\u001b[0m\u001b[0mj\u001b[0m\u001b[0;34m+\u001b[0m\u001b[0mbatch_size\u001b[0m\u001b[0;34m]\u001b[0m\u001b[0;34m,\u001b[0m \u001b[0ml2_reg\u001b[0m\u001b[0;34m)\u001b[0m\u001b[0;34m\u001b[0m\u001b[0;34m\u001b[0m\u001b[0m\n\u001b[0m\u001b[1;32m     11\u001b[0m       \u001b[0mlosses\u001b[0m\u001b[0;34m.\u001b[0m\u001b[0mappend\u001b[0m\u001b[0;34m(\u001b[0m\u001b[0mloss\u001b[0m\u001b[0;34m)\u001b[0m\u001b[0;34m\u001b[0m\u001b[0;34m\u001b[0m\u001b[0m\n\u001b[1;32m     12\u001b[0m \u001b[0;34m\u001b[0m\u001b[0m\n",
            "\u001b[0;32m<ipython-input-6-e58870bba60f>\u001b[0m in \u001b[0;36mcompute_loss_and_gradients\u001b[0;34m(weights, X, y, l2_reg)\u001b[0m\n\u001b[1;32m     38\u001b[0m     \u001b[0;31m#loss = -np.trace(np.dot(np.log(predict(weights, X)), y))/ y.shape[0] + l2_reg * np.sum(weights**2)\u001b[0m\u001b[0;34m\u001b[0m\u001b[0;34m\u001b[0m\u001b[0;34m\u001b[0m\u001b[0m\n\u001b[1;32m     39\u001b[0m     \u001b[0;31m#loss bez\u001b[0m\u001b[0;34m\u001b[0m\u001b[0;34m\u001b[0m\u001b[0;34m\u001b[0m\u001b[0m\n\u001b[0;32m---> 40\u001b[0;31m     \u001b[0mloss\u001b[0m \u001b[0;34m=\u001b[0m \u001b[0;34m-\u001b[0m\u001b[0mnp\u001b[0m\u001b[0;34m.\u001b[0m\u001b[0mtrace\u001b[0m\u001b[0;34m(\u001b[0m\u001b[0mnp\u001b[0m\u001b[0;34m.\u001b[0m\u001b[0mdot\u001b[0m\u001b[0;34m(\u001b[0m\u001b[0mnp\u001b[0m\u001b[0;34m.\u001b[0m\u001b[0mlog\u001b[0m\u001b[0;34m(\u001b[0m\u001b[0mpredict\u001b[0m\u001b[0;34m(\u001b[0m\u001b[0mweights\u001b[0m\u001b[0;34m,\u001b[0m \u001b[0mX\u001b[0m\u001b[0;34m)\u001b[0m\u001b[0;34m)\u001b[0m\u001b[0;34m,\u001b[0m \u001b[0my\u001b[0m\u001b[0;34m.\u001b[0m\u001b[0mT\u001b[0m\u001b[0;34m)\u001b[0m\u001b[0;34m)\u001b[0m\u001b[0;34m/\u001b[0m\u001b[0my\u001b[0m\u001b[0;34m.\u001b[0m\u001b[0mshape\u001b[0m\u001b[0;34m[\u001b[0m\u001b[0;36m0\u001b[0m\u001b[0;34m]\u001b[0m \u001b[0;34m+\u001b[0m \u001b[0ml2_reg\u001b[0m \u001b[0;34m*\u001b[0m \u001b[0mnp\u001b[0m\u001b[0;34m.\u001b[0m\u001b[0msum\u001b[0m\u001b[0;34m(\u001b[0m\u001b[0mweights\u001b[0m\u001b[0;34m**\u001b[0m\u001b[0;36m2\u001b[0m\u001b[0;34m)\u001b[0m\u001b[0;34m\u001b[0m\u001b[0;34m\u001b[0m\u001b[0m\n\u001b[0m\u001b[1;32m     41\u001b[0m     \u001b[0;31m#+ l2_reg* np.sum(weights**2)\u001b[0m\u001b[0;34m\u001b[0m\u001b[0;34m\u001b[0m\u001b[0;34m\u001b[0m\u001b[0m\n\u001b[1;32m     42\u001b[0m     \u001b[0;31m#grad1 = np.zeros([X.shape[1], 10])\u001b[0m\u001b[0;34m\u001b[0m\u001b[0;34m\u001b[0m\u001b[0;34m\u001b[0m\u001b[0m\n",
            "\u001b[0;32m<__array_function__ internals>\u001b[0m in \u001b[0;36mdot\u001b[0;34m(*args, **kwargs)\u001b[0m\n",
            "\u001b[0;31mKeyboardInterrupt\u001b[0m: "
          ]
        }
      ]
    },
    {
      "cell_type": "code",
      "metadata": {
        "colab": {
          "base_uri": "https://localhost:8080/",
          "height": 425
        },
        "id": "esiu34gKpb2j",
        "outputId": "515fea67-2fed-4437-9db7-5807aeb3cc40"
      },
      "source": [
        "X = x_train[:2000]\n",
        "y = y_train[:2000]\n",
        "l2_reg_space = np.linspace(0.1, 0.9, num=3)\n",
        "lr_space = np.linspace(0.1, 0.9, num=3)\n",
        "batch_size = 100\n",
        "n_epochs = 250\n",
        "for lr in lr_space:\n",
        "  for l2 in l2_reg_space:\n",
        "    for batch in range(25, 100, 25):\n",
        "      print(np.mean(cross_validation_split(X, y, l2_reg=l2, n_epochs=n_epochs, lr=lr, n_splits=10, batch_size=batch)))\n",
        "      print({\"lr\":lr, \"l2\":l2, \"batch_size\": batch})\n",
        "\n"
      ],
      "execution_count": null,
      "outputs": [
        {
          "output_type": "error",
          "ename": "KeyboardInterrupt",
          "evalue": "ignored",
          "traceback": [
            "\u001b[0;31m---------------------------------------------------------------------------\u001b[0m",
            "\u001b[0;31mKeyboardInterrupt\u001b[0m                         Traceback (most recent call last)",
            "\u001b[0;32m<ipython-input-16-548bb656c596>\u001b[0m in \u001b[0;36m<module>\u001b[0;34m()\u001b[0m\n\u001b[1;32m      8\u001b[0m   \u001b[0;32mfor\u001b[0m \u001b[0ml2\u001b[0m \u001b[0;32min\u001b[0m \u001b[0ml2_reg_space\u001b[0m\u001b[0;34m:\u001b[0m\u001b[0;34m\u001b[0m\u001b[0;34m\u001b[0m\u001b[0m\n\u001b[1;32m      9\u001b[0m     \u001b[0;32mfor\u001b[0m \u001b[0mbatch\u001b[0m \u001b[0;32min\u001b[0m \u001b[0mrange\u001b[0m\u001b[0;34m(\u001b[0m\u001b[0;36m25\u001b[0m\u001b[0;34m,\u001b[0m \u001b[0;36m100\u001b[0m\u001b[0;34m,\u001b[0m \u001b[0;36m25\u001b[0m\u001b[0;34m)\u001b[0m\u001b[0;34m:\u001b[0m\u001b[0;34m\u001b[0m\u001b[0;34m\u001b[0m\u001b[0m\n\u001b[0;32m---> 10\u001b[0;31m       \u001b[0mprint\u001b[0m\u001b[0;34m(\u001b[0m\u001b[0mnp\u001b[0m\u001b[0;34m.\u001b[0m\u001b[0mmean\u001b[0m\u001b[0;34m(\u001b[0m\u001b[0mcross_validation_split\u001b[0m\u001b[0;34m(\u001b[0m\u001b[0mX\u001b[0m\u001b[0;34m,\u001b[0m \u001b[0my\u001b[0m\u001b[0;34m,\u001b[0m \u001b[0ml2_reg\u001b[0m\u001b[0;34m=\u001b[0m\u001b[0ml2\u001b[0m\u001b[0;34m,\u001b[0m \u001b[0mn_epochs\u001b[0m\u001b[0;34m=\u001b[0m\u001b[0mn_epochs\u001b[0m\u001b[0;34m,\u001b[0m \u001b[0mlr\u001b[0m\u001b[0;34m=\u001b[0m\u001b[0mlr\u001b[0m\u001b[0;34m,\u001b[0m \u001b[0mn_splits\u001b[0m\u001b[0;34m=\u001b[0m\u001b[0;36m10\u001b[0m\u001b[0;34m,\u001b[0m \u001b[0mbatch_size\u001b[0m\u001b[0;34m=\u001b[0m\u001b[0mbatch\u001b[0m\u001b[0;34m)\u001b[0m\u001b[0;34m)\u001b[0m\u001b[0;34m)\u001b[0m\u001b[0;34m\u001b[0m\u001b[0;34m\u001b[0m\u001b[0m\n\u001b[0m\u001b[1;32m     11\u001b[0m       \u001b[0mprint\u001b[0m\u001b[0;34m(\u001b[0m\u001b[0;34m{\u001b[0m\u001b[0;34m\"lr\"\u001b[0m\u001b[0;34m:\u001b[0m\u001b[0mlr\u001b[0m\u001b[0;34m,\u001b[0m \u001b[0;34m\"l2\"\u001b[0m\u001b[0;34m:\u001b[0m\u001b[0ml2\u001b[0m\u001b[0;34m,\u001b[0m \u001b[0;34m\"batch_size\"\u001b[0m\u001b[0;34m:\u001b[0m \u001b[0mbatch\u001b[0m\u001b[0;34m}\u001b[0m\u001b[0;34m)\u001b[0m\u001b[0;34m\u001b[0m\u001b[0;34m\u001b[0m\u001b[0m\n\u001b[1;32m     12\u001b[0m \u001b[0;34m\u001b[0m\u001b[0m\n",
            "\u001b[0;32m<ipython-input-13-088509921103>\u001b[0m in \u001b[0;36mcross_validation_split\u001b[0;34m(X, y, l2_reg, n_epochs, lr, n_splits, batch_size)\u001b[0m\n\u001b[1;32m     11\u001b[0m \u001b[0;34m\u001b[0m\u001b[0m\n\u001b[1;32m     12\u001b[0m \u001b[0;34m\u001b[0m\u001b[0m\n\u001b[0;32m---> 13\u001b[0;31m       \u001b[0mweights\u001b[0m\u001b[0;34m,\u001b[0m \u001b[0mlosses\u001b[0m \u001b[0;34m=\u001b[0m \u001b[0mfit\u001b[0m\u001b[0;34m(\u001b[0m\u001b[0mx_train_fold\u001b[0m\u001b[0;34m,\u001b[0m \u001b[0my_train_fold\u001b[0m\u001b[0;34m,\u001b[0m \u001b[0ml2_reg\u001b[0m\u001b[0;34m,\u001b[0m \u001b[0mn_epochs\u001b[0m\u001b[0;34m,\u001b[0m \u001b[0mlr\u001b[0m\u001b[0;34m)\u001b[0m\u001b[0;34m\u001b[0m\u001b[0;34m\u001b[0m\u001b[0m\n\u001b[0m\u001b[1;32m     14\u001b[0m \u001b[0;34m\u001b[0m\u001b[0m\n\u001b[1;32m     15\u001b[0m       \u001b[0my_pred\u001b[0m \u001b[0;34m=\u001b[0m \u001b[0mpredict\u001b[0m\u001b[0;34m(\u001b[0m\u001b[0mweights\u001b[0m\u001b[0;34m,\u001b[0m \u001b[0mx_test_fold\u001b[0m\u001b[0;34m)\u001b[0m\u001b[0;34m\u001b[0m\u001b[0;34m\u001b[0m\u001b[0m\n",
            "\u001b[0;32m<ipython-input-11-cd7e5042fde1>\u001b[0m in \u001b[0;36mfit\u001b[0;34m(X, y, l2_reg, n_epochs, lr, batch_size)\u001b[0m\n\u001b[1;32m      8\u001b[0m   \u001b[0;32mfor\u001b[0m \u001b[0mi\u001b[0m \u001b[0;32min\u001b[0m \u001b[0mrange\u001b[0m\u001b[0;34m(\u001b[0m\u001b[0mn_epochs\u001b[0m\u001b[0;34m)\u001b[0m\u001b[0;34m:\u001b[0m\u001b[0;34m\u001b[0m\u001b[0;34m\u001b[0m\u001b[0m\n\u001b[1;32m      9\u001b[0m     \u001b[0;32mfor\u001b[0m \u001b[0mj\u001b[0m \u001b[0;32min\u001b[0m \u001b[0mrange\u001b[0m\u001b[0;34m(\u001b[0m\u001b[0;36m0\u001b[0m\u001b[0;34m,\u001b[0m \u001b[0mX\u001b[0m\u001b[0;34m.\u001b[0m\u001b[0mshape\u001b[0m\u001b[0;34m[\u001b[0m\u001b[0;36m0\u001b[0m\u001b[0;34m]\u001b[0m\u001b[0;34m,\u001b[0m \u001b[0mbatch_size\u001b[0m\u001b[0;34m)\u001b[0m\u001b[0;34m:\u001b[0m\u001b[0;34m\u001b[0m\u001b[0;34m\u001b[0m\u001b[0m\n\u001b[0;32m---> 10\u001b[0;31m       \u001b[0mloss\u001b[0m\u001b[0;34m,\u001b[0m \u001b[0mgrad\u001b[0m \u001b[0;34m=\u001b[0m \u001b[0mcompute_loss_and_gradients\u001b[0m\u001b[0;34m(\u001b[0m\u001b[0mweights\u001b[0m\u001b[0;34m,\u001b[0m \u001b[0mX\u001b[0m\u001b[0;34m[\u001b[0m\u001b[0mj\u001b[0m\u001b[0;34m:\u001b[0m\u001b[0mj\u001b[0m\u001b[0;34m+\u001b[0m\u001b[0mbatch_size\u001b[0m\u001b[0;34m]\u001b[0m\u001b[0;34m,\u001b[0m \u001b[0my\u001b[0m\u001b[0;34m[\u001b[0m\u001b[0mj\u001b[0m\u001b[0;34m:\u001b[0m\u001b[0mj\u001b[0m\u001b[0;34m+\u001b[0m\u001b[0mbatch_size\u001b[0m\u001b[0;34m]\u001b[0m\u001b[0;34m,\u001b[0m \u001b[0ml2_reg\u001b[0m\u001b[0;34m)\u001b[0m\u001b[0;34m\u001b[0m\u001b[0;34m\u001b[0m\u001b[0m\n\u001b[0m\u001b[1;32m     11\u001b[0m       \u001b[0mlosses\u001b[0m\u001b[0;34m.\u001b[0m\u001b[0mappend\u001b[0m\u001b[0;34m(\u001b[0m\u001b[0mloss\u001b[0m\u001b[0;34m)\u001b[0m\u001b[0;34m\u001b[0m\u001b[0;34m\u001b[0m\u001b[0m\n\u001b[1;32m     12\u001b[0m \u001b[0;34m\u001b[0m\u001b[0m\n",
            "\u001b[0;32m<ipython-input-6-e58870bba60f>\u001b[0m in \u001b[0;36mcompute_loss_and_gradients\u001b[0;34m(weights, X, y, l2_reg)\u001b[0m\n\u001b[1;32m     38\u001b[0m     \u001b[0;31m#loss = -np.trace(np.dot(np.log(predict(weights, X)), y))/ y.shape[0] + l2_reg * np.sum(weights**2)\u001b[0m\u001b[0;34m\u001b[0m\u001b[0;34m\u001b[0m\u001b[0;34m\u001b[0m\u001b[0m\n\u001b[1;32m     39\u001b[0m     \u001b[0;31m#loss bez\u001b[0m\u001b[0;34m\u001b[0m\u001b[0;34m\u001b[0m\u001b[0;34m\u001b[0m\u001b[0m\n\u001b[0;32m---> 40\u001b[0;31m     \u001b[0mloss\u001b[0m \u001b[0;34m=\u001b[0m \u001b[0;34m-\u001b[0m\u001b[0mnp\u001b[0m\u001b[0;34m.\u001b[0m\u001b[0mtrace\u001b[0m\u001b[0;34m(\u001b[0m\u001b[0mnp\u001b[0m\u001b[0;34m.\u001b[0m\u001b[0mdot\u001b[0m\u001b[0;34m(\u001b[0m\u001b[0mnp\u001b[0m\u001b[0;34m.\u001b[0m\u001b[0mlog\u001b[0m\u001b[0;34m(\u001b[0m\u001b[0mpredict\u001b[0m\u001b[0;34m(\u001b[0m\u001b[0mweights\u001b[0m\u001b[0;34m,\u001b[0m \u001b[0mX\u001b[0m\u001b[0;34m)\u001b[0m\u001b[0;34m)\u001b[0m\u001b[0;34m,\u001b[0m \u001b[0my\u001b[0m\u001b[0;34m.\u001b[0m\u001b[0mT\u001b[0m\u001b[0;34m)\u001b[0m\u001b[0;34m)\u001b[0m\u001b[0;34m/\u001b[0m\u001b[0my\u001b[0m\u001b[0;34m.\u001b[0m\u001b[0mshape\u001b[0m\u001b[0;34m[\u001b[0m\u001b[0;36m0\u001b[0m\u001b[0;34m]\u001b[0m \u001b[0;34m+\u001b[0m \u001b[0ml2_reg\u001b[0m \u001b[0;34m*\u001b[0m \u001b[0mnp\u001b[0m\u001b[0;34m.\u001b[0m\u001b[0msum\u001b[0m\u001b[0;34m(\u001b[0m\u001b[0mweights\u001b[0m\u001b[0;34m**\u001b[0m\u001b[0;36m2\u001b[0m\u001b[0;34m)\u001b[0m\u001b[0;34m\u001b[0m\u001b[0;34m\u001b[0m\u001b[0m\n\u001b[0m\u001b[1;32m     41\u001b[0m     \u001b[0;31m#+ l2_reg* np.sum(weights**2)\u001b[0m\u001b[0;34m\u001b[0m\u001b[0;34m\u001b[0m\u001b[0;34m\u001b[0m\u001b[0m\n\u001b[1;32m     42\u001b[0m     \u001b[0;31m#grad1 = np.zeros([X.shape[1], 10])\u001b[0m\u001b[0;34m\u001b[0m\u001b[0;34m\u001b[0m\u001b[0;34m\u001b[0m\u001b[0m\n",
            "\u001b[0;32m<ipython-input-6-e58870bba60f>\u001b[0m in \u001b[0;36mpredict\u001b[0;34m(weights, X)\u001b[0m\n\u001b[1;32m     18\u001b[0m     \u001b[0;31m# TODO: compute the probabilities #\u001b[0m\u001b[0;34m\u001b[0m\u001b[0;34m\u001b[0m\u001b[0;34m\u001b[0m\u001b[0m\n\u001b[1;32m     19\u001b[0m     \u001b[0;31m###################################\u001b[0m\u001b[0;34m\u001b[0m\u001b[0;34m\u001b[0m\u001b[0;34m\u001b[0m\u001b[0m\n\u001b[0;32m---> 20\u001b[0;31m     \u001b[0;32mreturn\u001b[0m \u001b[0msoftmax\u001b[0m\u001b[0;34m(\u001b[0m\u001b[0mnp\u001b[0m\u001b[0;34m.\u001b[0m\u001b[0mdot\u001b[0m\u001b[0;34m(\u001b[0m\u001b[0mX\u001b[0m\u001b[0;34m,\u001b[0m \u001b[0mweights\u001b[0m\u001b[0;34m)\u001b[0m\u001b[0;34m)\u001b[0m\u001b[0;34m\u001b[0m\u001b[0;34m\u001b[0m\u001b[0m\n\u001b[0m\u001b[1;32m     21\u001b[0m \u001b[0;34m\u001b[0m\u001b[0m\n\u001b[1;32m     22\u001b[0m \u001b[0;32mfrom\u001b[0m \u001b[0mnumpy\u001b[0m \u001b[0;32mimport\u001b[0m \u001b[0mlinalg\u001b[0m \u001b[0;32mas\u001b[0m \u001b[0mLA\u001b[0m\u001b[0;34m\u001b[0m\u001b[0;34m\u001b[0m\u001b[0m\n",
            "\u001b[0;32m<__array_function__ internals>\u001b[0m in \u001b[0;36mdot\u001b[0;34m(*args, **kwargs)\u001b[0m\n",
            "\u001b[0;31mKeyboardInterrupt\u001b[0m: "
          ]
        }
      ]
    },
    {
      "cell_type": "code",
      "metadata": {
        "id": "abJCVyfk8vp_"
      },
      "source": [
        "#Agrad \n",
        "\n",
        "l2_reg = 0.001\n",
        "n_epochs = 16\n",
        "batch_size = 1000\n",
        "num_batches = x_train.shape[0] // batch_size\n",
        "eta = 0.1\n",
        "eps = 10 ** (-8)\n",
        "\n",
        "weighs = np.zeros([x_train.shape[1], 10])\n",
        "\n",
        "G = np.zeros(weighs.shape)\n",
        "losses = []\n",
        "\n",
        "\n",
        "loss, grad = compute_loss_and_gradients(weights, X, y, l2_reg)\n"
      ],
      "execution_count": null,
      "outputs": []
    }
  ]
}